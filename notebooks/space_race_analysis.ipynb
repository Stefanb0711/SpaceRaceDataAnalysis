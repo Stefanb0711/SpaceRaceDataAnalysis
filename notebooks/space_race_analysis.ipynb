{
 "cells": [
  {
   "cell_type": "code",
   "execution_count": 14,
   "id": "initial_id",
   "metadata": {
    "collapsed": true,
    "ExecuteTime": {
     "end_time": "2024-05-10T15:14:28.277243400Z",
     "start_time": "2024-05-10T15:14:28.267239Z"
    }
   },
   "outputs": [],
   "source": [
    "import pandas as pd\n",
    "import matplotlib.pyplot as plt\n",
    "import seaborn as sns\n",
    "import plotly.express as px"
   ]
  },
  {
   "cell_type": "code",
   "outputs": [],
   "source": [
    "space_missing_data = pd.read_csv('spaceMissionFrom1957.csv')"
   ],
   "metadata": {
    "collapsed": false,
    "ExecuteTime": {
     "end_time": "2024-05-10T15:14:31.669735700Z",
     "start_time": "2024-05-10T15:14:31.652674100Z"
    }
   },
   "id": "e90ee7fd4a82e461",
   "execution_count": 16
  },
  {
   "cell_type": "code",
   "outputs": [],
   "source": [
    "space_mission_df = pd.DataFrame(space_missing_data)"
   ],
   "metadata": {
    "collapsed": false,
    "ExecuteTime": {
     "end_time": "2024-05-13T13:09:39.663406300Z",
     "start_time": "2024-05-13T13:09:39.646343700Z"
    }
   },
   "id": "7803424c2eb834e0",
   "execution_count": 639
  },
  {
   "cell_type": "code",
   "outputs": [],
   "source": [
    "space_mission_df.rename(columns={\"Location of the Launch\": \"Location\"}, inplace=True)"
   ],
   "metadata": {
    "collapsed": false,
    "ExecuteTime": {
     "end_time": "2024-05-13T13:09:40.425718200Z",
     "start_time": "2024-05-13T13:09:40.410200100Z"
    }
   },
   "id": "1a4defe90be91b68",
   "execution_count": 640
  },
  {
   "cell_type": "code",
   "outputs": [],
   "source": [
    "space_mission_df[\"Location\"] = space_mission_df[\"Location\"].str.split(\",\")"
   ],
   "metadata": {
    "collapsed": false,
    "ExecuteTime": {
     "end_time": "2024-05-13T13:09:40.654610Z",
     "start_time": "2024-05-13T13:09:40.618721400Z"
    }
   },
   "id": "535dbeb4037f21d0",
   "execution_count": 641
  },
  {
   "cell_type": "code",
   "outputs": [],
   "source": [
    "def get_last_item(lst):\n",
    "    return lst[-1]"
   ],
   "metadata": {
    "collapsed": false,
    "ExecuteTime": {
     "end_time": "2024-05-13T13:09:40.815804700Z",
     "start_time": "2024-05-13T13:09:40.800801900Z"
    }
   },
   "id": "4ee12347fee1ff1e",
   "execution_count": 642
  },
  {
   "cell_type": "code",
   "outputs": [],
   "source": [
    "space_mission_df[\"Location\"] = space_mission_df[\"Location\"].apply(get_last_item)"
   ],
   "metadata": {
    "collapsed": false,
    "ExecuteTime": {
     "end_time": "2024-05-13T13:09:41.413857800Z",
     "start_time": "2024-05-13T13:09:41.378299Z"
    }
   },
   "id": "f661fe701aa06a7b",
   "execution_count": 643
  },
  {
   "cell_type": "code",
   "outputs": [
    {
     "ename": "KeyError",
     "evalue": "-1",
     "output_type": "error",
     "traceback": [
      "\u001B[1;31m---------------------------------------------------------------------------\u001B[0m",
      "\u001B[1;31mValueError\u001B[0m                                Traceback (most recent call last)",
      "File \u001B[1;32m~\\Documents\\PycharmProjekte\\SpaceRaceDataAnalysis\\.venv\\Lib\\site-packages\\pandas\\core\\indexes\\range.py:413\u001B[0m, in \u001B[0;36mRangeIndex.get_loc\u001B[1;34m(self, key)\u001B[0m\n\u001B[0;32m    412\u001B[0m \u001B[38;5;28;01mtry\u001B[39;00m:\n\u001B[1;32m--> 413\u001B[0m     \u001B[38;5;28;01mreturn\u001B[39;00m \u001B[38;5;28;43mself\u001B[39;49m\u001B[38;5;241;43m.\u001B[39;49m\u001B[43m_range\u001B[49m\u001B[38;5;241;43m.\u001B[39;49m\u001B[43mindex\u001B[49m\u001B[43m(\u001B[49m\u001B[43mnew_key\u001B[49m\u001B[43m)\u001B[49m\n\u001B[0;32m    414\u001B[0m \u001B[38;5;28;01mexcept\u001B[39;00m \u001B[38;5;167;01mValueError\u001B[39;00m \u001B[38;5;28;01mas\u001B[39;00m err:\n",
      "\u001B[1;31mValueError\u001B[0m: -1 is not in range",
      "\nThe above exception was the direct cause of the following exception:\n",
      "\u001B[1;31mKeyError\u001B[0m                                  Traceback (most recent call last)",
      "Cell \u001B[1;32mIn[644], line 1\u001B[0m\n\u001B[1;32m----> 1\u001B[0m space_mission_df[\u001B[38;5;124m\"\u001B[39m\u001B[38;5;124mLocation\u001B[39m\u001B[38;5;124m\"\u001B[39m] \u001B[38;5;241m=\u001B[39m \u001B[43mspace_mission_df\u001B[49m\u001B[43m[\u001B[49m\u001B[38;5;124;43m\"\u001B[39;49m\u001B[38;5;124;43mLocation\u001B[39;49m\u001B[38;5;124;43m\"\u001B[39;49m\u001B[43m]\u001B[49m\u001B[43m[\u001B[49m\u001B[38;5;241;43m-\u001B[39;49m\u001B[38;5;241;43m1\u001B[39;49m\u001B[43m]\u001B[49m\n",
      "File \u001B[1;32m~\\Documents\\PycharmProjekte\\SpaceRaceDataAnalysis\\.venv\\Lib\\site-packages\\pandas\\core\\series.py:1121\u001B[0m, in \u001B[0;36mSeries.__getitem__\u001B[1;34m(self, key)\u001B[0m\n\u001B[0;32m   1118\u001B[0m     \u001B[38;5;28;01mreturn\u001B[39;00m \u001B[38;5;28mself\u001B[39m\u001B[38;5;241m.\u001B[39m_values[key]\n\u001B[0;32m   1120\u001B[0m \u001B[38;5;28;01melif\u001B[39;00m key_is_scalar:\n\u001B[1;32m-> 1121\u001B[0m     \u001B[38;5;28;01mreturn\u001B[39;00m \u001B[38;5;28;43mself\u001B[39;49m\u001B[38;5;241;43m.\u001B[39;49m\u001B[43m_get_value\u001B[49m\u001B[43m(\u001B[49m\u001B[43mkey\u001B[49m\u001B[43m)\u001B[49m\n\u001B[0;32m   1123\u001B[0m \u001B[38;5;66;03m# Convert generator to list before going through hashable part\u001B[39;00m\n\u001B[0;32m   1124\u001B[0m \u001B[38;5;66;03m# (We will iterate through the generator there to check for slices)\u001B[39;00m\n\u001B[0;32m   1125\u001B[0m \u001B[38;5;28;01mif\u001B[39;00m is_iterator(key):\n",
      "File \u001B[1;32m~\\Documents\\PycharmProjekte\\SpaceRaceDataAnalysis\\.venv\\Lib\\site-packages\\pandas\\core\\series.py:1237\u001B[0m, in \u001B[0;36mSeries._get_value\u001B[1;34m(self, label, takeable)\u001B[0m\n\u001B[0;32m   1234\u001B[0m     \u001B[38;5;28;01mreturn\u001B[39;00m \u001B[38;5;28mself\u001B[39m\u001B[38;5;241m.\u001B[39m_values[label]\n\u001B[0;32m   1236\u001B[0m \u001B[38;5;66;03m# Similar to Index.get_value, but we do not fall back to positional\u001B[39;00m\n\u001B[1;32m-> 1237\u001B[0m loc \u001B[38;5;241m=\u001B[39m \u001B[38;5;28;43mself\u001B[39;49m\u001B[38;5;241;43m.\u001B[39;49m\u001B[43mindex\u001B[49m\u001B[38;5;241;43m.\u001B[39;49m\u001B[43mget_loc\u001B[49m\u001B[43m(\u001B[49m\u001B[43mlabel\u001B[49m\u001B[43m)\u001B[49m\n\u001B[0;32m   1239\u001B[0m \u001B[38;5;28;01mif\u001B[39;00m is_integer(loc):\n\u001B[0;32m   1240\u001B[0m     \u001B[38;5;28;01mreturn\u001B[39;00m \u001B[38;5;28mself\u001B[39m\u001B[38;5;241m.\u001B[39m_values[loc]\n",
      "File \u001B[1;32m~\\Documents\\PycharmProjekte\\SpaceRaceDataAnalysis\\.venv\\Lib\\site-packages\\pandas\\core\\indexes\\range.py:415\u001B[0m, in \u001B[0;36mRangeIndex.get_loc\u001B[1;34m(self, key)\u001B[0m\n\u001B[0;32m    413\u001B[0m         \u001B[38;5;28;01mreturn\u001B[39;00m \u001B[38;5;28mself\u001B[39m\u001B[38;5;241m.\u001B[39m_range\u001B[38;5;241m.\u001B[39mindex(new_key)\n\u001B[0;32m    414\u001B[0m     \u001B[38;5;28;01mexcept\u001B[39;00m \u001B[38;5;167;01mValueError\u001B[39;00m \u001B[38;5;28;01mas\u001B[39;00m err:\n\u001B[1;32m--> 415\u001B[0m         \u001B[38;5;28;01mraise\u001B[39;00m \u001B[38;5;167;01mKeyError\u001B[39;00m(key) \u001B[38;5;28;01mfrom\u001B[39;00m \u001B[38;5;21;01merr\u001B[39;00m\n\u001B[0;32m    416\u001B[0m \u001B[38;5;28;01mif\u001B[39;00m \u001B[38;5;28misinstance\u001B[39m(key, Hashable):\n\u001B[0;32m    417\u001B[0m     \u001B[38;5;28;01mraise\u001B[39;00m \u001B[38;5;167;01mKeyError\u001B[39;00m(key)\n",
      "\u001B[1;31mKeyError\u001B[0m: -1"
     ]
    }
   ],
   "source": [
    "space_mission_df[\"Location\"] = space_mission_df[\"Location\"][-1]"
   ],
   "metadata": {
    "collapsed": false,
    "ExecuteTime": {
     "end_time": "2024-05-13T13:09:41.821354400Z",
     "start_time": "2024-05-13T13:09:41.767938300Z"
    }
   },
   "id": "919f870ed44fbe16",
   "execution_count": 644
  },
  {
   "cell_type": "markdown",
   "source": [
    "<h3>Welche Länder haben die meisten Raumfahrtmissionen durchgeführt</h3>"
   ],
   "metadata": {
    "collapsed": false
   },
   "id": "4c0edaf7e96999cf"
  },
  {
   "cell_type": "code",
   "outputs": [],
   "source": [
    "distribution_by_country = space_mission_df[\"Location\"].value_counts()[:5]\n",
    "distribution_by_country_df = pd.DataFrame(distribution_by_country)"
   ],
   "metadata": {
    "collapsed": false,
    "ExecuteTime": {
     "end_time": "2024-05-13T13:09:42.180558800Z",
     "start_time": "2024-05-13T13:09:42.125556600Z"
    }
   },
   "id": "40feb30a7469c1ea",
   "execution_count": 645
  },
  {
   "cell_type": "code",
   "outputs": [
    {
     "data": {
      "text/plain": "<Figure size 1000x700 with 1 Axes>",
      "image/png": "[encoded data removed]"
     },
     "metadata": {},
     "output_type": "display_data"
    }
   ],
   "source": [
    "plt.figure(figsize=(10, 7))\n",
    "sns.barplot(y=\"Location\", x=distribution_by_country.values, data=distribution_by_country_df)\n",
    "plt.title(\"Weltraummissionen nach Ländern\")\n",
    "plt.show()"
   ],
   "metadata": {
    "collapsed": false,
    "ExecuteTime": {
     "end_time": "2024-05-13T13:09:42.637541Z",
     "start_time": "2024-05-13T13:09:42.487074600Z"
    }
   },
   "id": "c0738888dbb81703",
   "execution_count": 646
  },
  {
   "cell_type": "code",
   "outputs": [
    {
     "data": {
      "text/plain": "     Company Name     Location    Datum and Time of Launch  \\\n0          SpaceX          USA  Fri Aug 07, 2020 05:12 UTC   \n1            CASC        China  Thu Aug 06, 2020 04:01 UTC   \n2          SpaceX          USA  Tue Aug 04, 2020 23:57 UTC   \n3       Roscosmos   Kazakhstan  Thu Jul 30, 2020 21:25 UTC   \n4             ULA          USA  Thu Jul 30, 2020 11:50 UTC   \n...           ...          ...                         ...   \n4319      US Navy          USA  Wed Feb 05, 1958 07:33 UTC   \n4320         AMBA          USA  Sat Feb 01, 1958 03:48 UTC   \n4321      US Navy          USA  Fri Dec 06, 1957 16:44 UTC   \n4322    RVSN USSR   Kazakhstan  Sun Nov 03, 1957 02:30 UTC   \n4323    RVSN USSR   Kazakhstan  Fri Oct 04, 1957 19:28 UTC   \n\n                                       Rocket Name Status of the rocket  \\\n0     Falcon 9 Block 5 | Starlink V1 L9 & BlackSky         StatusActive   \n1              Long March 2D | Gaofen-9 04 & Q-SAT         StatusActive   \n2               Starship Prototype | 150 Meter Hop         StatusActive   \n3     Proton-M/Briz-M | Ekspress-80 & Ekspress-103         StatusActive   \n4                       Atlas V 541 | Perseverance         StatusActive   \n...                                            ...                  ...   \n4319                     Vanguard | Vanguard TV3BU        StatusRetired   \n4320                           Juno I | Explorer 1        StatusRetired   \n4321                       Vanguard | Vanguard TV3        StatusRetired   \n4322                    Sputnik 8K71PS | Sputnik-2        StatusRetired   \n4323                    Sputnik 8K71PS | Sputnik-1        StatusRetired   \n\n     Status of the mission  \n0                  Success  \n1                  Success  \n2                  Success  \n3                  Success  \n4                  Success  \n...                    ...  \n4319               Failure  \n4320               Success  \n4321               Failure  \n4322               Success  \n4323               Success  \n\n[4324 rows x 6 columns]",
      "text/html": "<div>\n<style scoped>\n    .dataframe tbody tr th:only-of-type {\n        vertical-align: middle;\n    }\n\n    .dataframe tbody tr th {\n        vertical-align: top;\n    }\n\n    .dataframe thead th {\n        text-align: right;\n    }\n</style>\n<table border=\"1\" class=\"dataframe\">\n  <thead>\n    <tr style=\"text-align: right;\">\n      <th></th>\n      <th>Company Name</th>\n      <th>Location</th>\n      <th>Datum and Time of Launch</th>\n      <th>Rocket Name</th>\n      <th>Status of the rocket</th>\n      <th>Status of the mission</th>\n    </tr>\n  </thead>\n  <tbody>\n    <tr>\n      <th>0</th>\n      <td>SpaceX</td>\n      <td>USA</td>\n      <td>Fri Aug 07, 2020 05:12 UTC</td>\n      <td>Falcon 9 Block 5 | Starlink V1 L9 &amp; BlackSky</td>\n      <td>StatusActive</td>\n      <td>Success</td>\n    </tr>\n    <tr>\n      <th>1</th>\n      <td>CASC</td>\n      <td>China</td>\n      <td>Thu Aug 06, 2020 04:01 UTC</td>\n      <td>Long March 2D | Gaofen-9 04 &amp; Q-SAT</td>\n      <td>StatusActive</td>\n      <td>Success</td>\n    </tr>\n    <tr>\n      <th>2</th>\n      <td>SpaceX</td>\n      <td>USA</td>\n      <td>Tue Aug 04, 2020 23:57 UTC</td>\n      <td>Starship Prototype | 150 Meter Hop</td>\n      <td>StatusActive</td>\n      <td>Success</td>\n    </tr>\n    <tr>\n      <th>3</th>\n      <td>Roscosmos</td>\n      <td>Kazakhstan</td>\n      <td>Thu Jul 30, 2020 21:25 UTC</td>\n      <td>Proton-M/Briz-M | Ekspress-80 &amp; Ekspress-103</td>\n      <td>StatusActive</td>\n      <td>Success</td>\n    </tr>\n    <tr>\n      <th>4</th>\n      <td>ULA</td>\n      <td>USA</td>\n      <td>Thu Jul 30, 2020 11:50 UTC</td>\n      <td>Atlas V 541 | Perseverance</td>\n      <td>StatusActive</td>\n      <td>Success</td>\n    </tr>\n    <tr>\n      <th>...</th>\n      <td>...</td>\n      <td>...</td>\n      <td>...</td>\n      <td>...</td>\n      <td>...</td>\n      <td>...</td>\n    </tr>\n    <tr>\n      <th>4319</th>\n      <td>US Navy</td>\n      <td>USA</td>\n      <td>Wed Feb 05, 1958 07:33 UTC</td>\n      <td>Vanguard | Vanguard TV3BU</td>\n      <td>StatusRetired</td>\n      <td>Failure</td>\n    </tr>\n    <tr>\n      <th>4320</th>\n      <td>AMBA</td>\n      <td>USA</td>\n      <td>Sat Feb 01, 1958 03:48 UTC</td>\n      <td>Juno I | Explorer 1</td>\n      <td>StatusRetired</td>\n      <td>Success</td>\n    </tr>\n    <tr>\n      <th>4321</th>\n      <td>US Navy</td>\n      <td>USA</td>\n      <td>Fri Dec 06, 1957 16:44 UTC</td>\n      <td>Vanguard | Vanguard TV3</td>\n      <td>StatusRetired</td>\n      <td>Failure</td>\n    </tr>\n    <tr>\n      <th>4322</th>\n      <td>RVSN USSR</td>\n      <td>Kazakhstan</td>\n      <td>Sun Nov 03, 1957 02:30 UTC</td>\n      <td>Sputnik 8K71PS | Sputnik-2</td>\n      <td>StatusRetired</td>\n      <td>Success</td>\n    </tr>\n    <tr>\n      <th>4323</th>\n      <td>RVSN USSR</td>\n      <td>Kazakhstan</td>\n      <td>Fri Oct 04, 1957 19:28 UTC</td>\n      <td>Sputnik 8K71PS | Sputnik-1</td>\n      <td>StatusRetired</td>\n      <td>Success</td>\n    </tr>\n  </tbody>\n</table>\n<p>4324 rows × 6 columns</p>\n</div>"
     },
     "execution_count": 647,
     "metadata": {},
     "output_type": "execute_result"
    }
   ],
   "source": [
    "space_mission_df"
   ],
   "metadata": {
    "collapsed": false,
    "ExecuteTime": {
     "end_time": "2024-05-13T13:09:55.138105800Z",
     "start_time": "2024-05-13T13:09:55.118903900Z"
    }
   },
   "id": "7b5d0842cb26d57c",
   "execution_count": 647
  },
  {
   "cell_type": "markdown",
   "source": [],
   "metadata": {
    "collapsed": false
   },
   "id": "addc583e5ad0c65"
  },
  {
   "cell_type": "markdown",
   "source": [
    "<h3> Wie hat sich die Häufigkeit der Raumfahrtmissionen über die Zeit verändert? </h3>"
   ],
   "metadata": {
    "collapsed": false
   },
   "id": "41034af03b543bca"
  },
  {
   "cell_type": "code",
   "outputs": [],
   "source": [
    "space_mission_df.rename(columns={\"Datum and Time of Launch\": \"Datum\"}, inplace=True)"
   ],
   "metadata": {
    "collapsed": false,
    "ExecuteTime": {
     "end_time": "2024-05-13T14:21:46.772876200Z",
     "start_time": "2024-05-13T14:21:46.757832700Z"
    }
   },
   "id": "c49b38b5eaac8c83",
   "execution_count": 772
  },
  {
   "cell_type": "code",
   "outputs": [
    {
     "data": {
      "text/plain": "           Company Name                        Date  \\\nLocation                                              \nUSA              SpaceX  Fri Aug 07, 2020 05:12 UTC   \nChina              CASC  Thu Aug 06, 2020 04:01 UTC   \nUSA              SpaceX  Tue Aug 04, 2020 23:57 UTC   \nKazakhstan    Roscosmos  Thu Jul 30, 2020 21:25 UTC   \nUSA                 ULA  Thu Jul 30, 2020 11:50 UTC   \n...                 ...                         ...   \nUSA             US Navy  Wed Feb 05, 1958 07:33 UTC   \nUSA                AMBA  Sat Feb 01, 1958 03:48 UTC   \nUSA             US Navy  Fri Dec 06, 1957 16:44 UTC   \nKazakhstan    RVSN USSR  Sun Nov 03, 1957 02:30 UTC   \nKazakhstan    RVSN USSR  Fri Oct 04, 1957 19:28 UTC   \n\n                                             Rocket Name Status of the rocket  \\\nLocation                                                                        \nUSA         Falcon 9 Block 5 | Starlink V1 L9 & BlackSky         StatusActive   \nChina                Long March 2D | Gaofen-9 04 & Q-SAT         StatusActive   \nUSA                   Starship Prototype | 150 Meter Hop         StatusActive   \nKazakhstan  Proton-M/Briz-M | Ekspress-80 & Ekspress-103         StatusActive   \nUSA                           Atlas V 541 | Perseverance         StatusActive   \n...                                                  ...                  ...   \nUSA                            Vanguard | Vanguard TV3BU        StatusRetired   \nUSA                                  Juno I | Explorer 1        StatusRetired   \nUSA                              Vanguard | Vanguard TV3        StatusRetired   \nKazakhstan                    Sputnik 8K71PS | Sputnik-2        StatusRetired   \nKazakhstan                    Sputnik 8K71PS | Sputnik-1        StatusRetired   \n\n           Status of the mission  year  \nLocation                                \nUSA                      Success  2020  \nChina                    Success  2020  \nUSA                      Success  2020  \nKazakhstan               Success  2020  \nUSA                      Success  2020  \n...                          ...   ...  \nUSA                      Failure  1958  \nUSA                      Success  1958  \nUSA                      Failure  1957  \nKazakhstan               Success  1957  \nKazakhstan               Success  1957  \n\n[4324 rows x 6 columns]",
      "text/html": "<div>\n<style scoped>\n    .dataframe tbody tr th:only-of-type {\n        vertical-align: middle;\n    }\n\n    .dataframe tbody tr th {\n        vertical-align: top;\n    }\n\n    .dataframe thead th {\n        text-align: right;\n    }\n</style>\n<table border=\"1\" class=\"dataframe\">\n  <thead>\n    <tr style=\"text-align: right;\">\n      <th></th>\n      <th>Company Name</th>\n      <th>Date</th>\n      <th>Rocket Name</th>\n      <th>Status of the rocket</th>\n      <th>Status of the mission</th>\n      <th>year</th>\n    </tr>\n    <tr>\n      <th>Location</th>\n      <th></th>\n      <th></th>\n      <th></th>\n      <th></th>\n      <th></th>\n      <th></th>\n    </tr>\n  </thead>\n  <tbody>\n    <tr>\n      <th>USA</th>\n      <td>SpaceX</td>\n      <td>Fri Aug 07, 2020 05:12 UTC</td>\n      <td>Falcon 9 Block 5 | Starlink V1 L9 &amp; BlackSky</td>\n      <td>StatusActive</td>\n      <td>Success</td>\n      <td>2020</td>\n    </tr>\n    <tr>\n      <th>China</th>\n      <td>CASC</td>\n      <td>Thu Aug 06, 2020 04:01 UTC</td>\n      <td>Long March 2D | Gaofen-9 04 &amp; Q-SAT</td>\n      <td>StatusActive</td>\n      <td>Success</td>\n      <td>2020</td>\n    </tr>\n    <tr>\n      <th>USA</th>\n      <td>SpaceX</td>\n      <td>Tue Aug 04, 2020 23:57 UTC</td>\n      <td>Starship Prototype | 150 Meter Hop</td>\n      <td>StatusActive</td>\n      <td>Success</td>\n      <td>2020</td>\n    </tr>\n    <tr>\n      <th>Kazakhstan</th>\n      <td>Roscosmos</td>\n      <td>Thu Jul 30, 2020 21:25 UTC</td>\n      <td>Proton-M/Briz-M | Ekspress-80 &amp; Ekspress-103</td>\n      <td>StatusActive</td>\n      <td>Success</td>\n      <td>2020</td>\n    </tr>\n    <tr>\n      <th>USA</th>\n      <td>ULA</td>\n      <td>Thu Jul 30, 2020 11:50 UTC</td>\n      <td>Atlas V 541 | Perseverance</td>\n      <td>StatusActive</td>\n      <td>Success</td>\n      <td>2020</td>\n    </tr>\n    <tr>\n      <th>...</th>\n      <td>...</td>\n      <td>...</td>\n      <td>...</td>\n      <td>...</td>\n      <td>...</td>\n      <td>...</td>\n    </tr>\n    <tr>\n      <th>USA</th>\n      <td>US Navy</td>\n      <td>Wed Feb 05, 1958 07:33 UTC</td>\n      <td>Vanguard | Vanguard TV3BU</td>\n      <td>StatusRetired</td>\n      <td>Failure</td>\n      <td>1958</td>\n    </tr>\n    <tr>\n      <th>USA</th>\n      <td>AMBA</td>\n      <td>Sat Feb 01, 1958 03:48 UTC</td>\n      <td>Juno I | Explorer 1</td>\n      <td>StatusRetired</td>\n      <td>Success</td>\n      <td>1958</td>\n    </tr>\n    <tr>\n      <th>USA</th>\n      <td>US Navy</td>\n      <td>Fri Dec 06, 1957 16:44 UTC</td>\n      <td>Vanguard | Vanguard TV3</td>\n      <td>StatusRetired</td>\n      <td>Failure</td>\n      <td>1957</td>\n    </tr>\n    <tr>\n      <th>Kazakhstan</th>\n      <td>RVSN USSR</td>\n      <td>Sun Nov 03, 1957 02:30 UTC</td>\n      <td>Sputnik 8K71PS | Sputnik-2</td>\n      <td>StatusRetired</td>\n      <td>Success</td>\n      <td>1957</td>\n    </tr>\n    <tr>\n      <th>Kazakhstan</th>\n      <td>RVSN USSR</td>\n      <td>Fri Oct 04, 1957 19:28 UTC</td>\n      <td>Sputnik 8K71PS | Sputnik-1</td>\n      <td>StatusRetired</td>\n      <td>Success</td>\n      <td>1957</td>\n    </tr>\n  </tbody>\n</table>\n<p>4324 rows × 6 columns</p>\n</div>"
     },
     "execution_count": 773,
     "metadata": {},
     "output_type": "execute_result"
    }
   ],
   "source": [
    "space_mission_df"
   ],
   "metadata": {
    "collapsed": false,
    "ExecuteTime": {
     "end_time": "2024-05-13T14:21:46.975724600Z",
     "start_time": "2024-05-13T14:21:46.959571400Z"
    }
   },
   "id": "92fdfafbd48f7eb7",
   "execution_count": 773
  },
  {
   "cell_type": "code",
   "outputs": [],
   "source": [
    "def get_year(itm):\n",
    "    return itm[4]"
   ],
   "metadata": {
    "collapsed": false,
    "ExecuteTime": {
     "end_time": "2024-05-13T14:21:48.377750Z",
     "start_time": "2024-05-13T14:21:48.311208Z"
    }
   },
   "id": "a561d4cbd5cb31fd",
   "execution_count": 774
  },
  {
   "cell_type": "code",
   "outputs": [],
   "source": [
    "space_mission_df.rename(columns={\"Datum and Time of Launch\": \"Date\"}, inplace=True)"
   ],
   "metadata": {
    "collapsed": false,
    "ExecuteTime": {
     "end_time": "2024-05-13T14:21:48.929513500Z",
     "start_time": "2024-05-13T14:21:48.913582100Z"
    }
   },
   "id": "d1b817babdf38597",
   "execution_count": 775
  },
  {
   "cell_type": "code",
   "outputs": [],
   "source": [
    "space_mission_df[\"year\"] = space_mission_df[\"Date\"].str.split(\" \")"
   ],
   "metadata": {
    "collapsed": false,
    "ExecuteTime": {
     "end_time": "2024-05-13T14:21:49.500682800Z",
     "start_time": "2024-05-13T14:21:49.484054200Z"
    }
   },
   "id": "500ef02347de6c7e",
   "execution_count": 776
  },
  {
   "cell_type": "code",
   "outputs": [],
   "source": [
    "def get_year(yr):\n",
    "    if len(yr) >= 5:\n",
    "        return yr[3]\n",
    "    else:\n",
    "        return None"
   ],
   "metadata": {
    "collapsed": false,
    "ExecuteTime": {
     "end_time": "2024-05-13T14:22:12.608910500Z",
     "start_time": "2024-05-13T14:22:12.573792600Z"
    }
   },
   "id": "687ca9c0ad78e88b",
   "execution_count": 779
  },
  {
   "cell_type": "code",
   "outputs": [],
   "source": [
    "space_mission_df[\"year\"] = space_mission_df[\"year\"].apply(get_year)"
   ],
   "metadata": {
    "collapsed": false,
    "ExecuteTime": {
     "end_time": "2024-05-13T14:22:13.050523900Z",
     "start_time": "2024-05-13T14:22:13.008902100Z"
    }
   },
   "id": "9e2914fa161d1eb0",
   "execution_count": 780
  },
  {
   "cell_type": "code",
   "outputs": [],
   "source": [],
   "metadata": {
    "collapsed": false,
    "ExecuteTime": {
     "end_time": "2024-05-13T14:22:13.679523700Z",
     "start_time": "2024-05-13T14:22:13.665500400Z"
    }
   },
   "id": "c796e735094fe6b7",
   "execution_count": 780
  },
  {
   "cell_type": "code",
   "outputs": [],
   "source": [
    "space_mission_df[\"year\"] = pd.to_datetime(space_mission_df[\"year\"])"
   ],
   "metadata": {
    "collapsed": false,
    "ExecuteTime": {
     "end_time": "2024-05-13T14:22:14.157678700Z",
     "start_time": "2024-05-13T14:22:14.107838Z"
    }
   },
   "id": "99ac20ebcb403f34",
   "execution_count": 781
  },
  {
   "cell_type": "code",
   "outputs": [],
   "source": [
    "space_mission_df[\"year\"] = pd.to_datetime(space_mission_df[\"year\"])"
   ],
   "metadata": {
    "collapsed": false,
    "ExecuteTime": {
     "end_time": "2024-05-13T14:22:14.607313400Z",
     "start_time": "2024-05-13T14:22:14.591837Z"
    }
   },
   "id": "48db5c4d49512a1f",
   "execution_count": 782
  },
  {
   "cell_type": "code",
   "outputs": [],
   "source": [
    "space_mission_df[\"year\"] = space_mission_df[\"year\"].dt.strftime(\"%Y\")"
   ],
   "metadata": {
    "collapsed": false,
    "ExecuteTime": {
     "end_time": "2024-05-13T14:22:14.845381100Z",
     "start_time": "2024-05-13T14:22:14.838312200Z"
    }
   },
   "id": "4563457f70fe0a67",
   "execution_count": 783
  },
  {
   "cell_type": "code",
   "outputs": [],
   "source": [
    "number_per_year = space_mission_df[\"year\"].value_counts()"
   ],
   "metadata": {
    "collapsed": false,
    "ExecuteTime": {
     "end_time": "2024-05-13T14:22:15.043106Z",
     "start_time": "2024-05-13T14:22:15.027152300Z"
    }
   },
   "id": "b2c841bc2a1bd601",
   "execution_count": 784
  },
  {
   "cell_type": "code",
   "outputs": [
    {
     "ename": "KeyError",
     "evalue": "'year'",
     "output_type": "error",
     "traceback": [
      "\u001B[1;31m---------------------------------------------------------------------------\u001B[0m",
      "\u001B[1;31mKeyError\u001B[0m                                  Traceback (most recent call last)",
      "File \u001B[1;32m~\\Documents\\PycharmProjekte\\SpaceRaceDataAnalysis\\.venv\\Lib\\site-packages\\pandas\\core\\indexes\\base.py:3805\u001B[0m, in \u001B[0;36mIndex.get_loc\u001B[1;34m(self, key)\u001B[0m\n\u001B[0;32m   3804\u001B[0m \u001B[38;5;28;01mtry\u001B[39;00m:\n\u001B[1;32m-> 3805\u001B[0m     \u001B[38;5;28;01mreturn\u001B[39;00m \u001B[38;5;28;43mself\u001B[39;49m\u001B[38;5;241;43m.\u001B[39;49m\u001B[43m_engine\u001B[49m\u001B[38;5;241;43m.\u001B[39;49m\u001B[43mget_loc\u001B[49m\u001B[43m(\u001B[49m\u001B[43mcasted_key\u001B[49m\u001B[43m)\u001B[49m\n\u001B[0;32m   3806\u001B[0m \u001B[38;5;28;01mexcept\u001B[39;00m \u001B[38;5;167;01mKeyError\u001B[39;00m \u001B[38;5;28;01mas\u001B[39;00m err:\n",
      "File \u001B[1;32mindex.pyx:167\u001B[0m, in \u001B[0;36mpandas._libs.index.IndexEngine.get_loc\u001B[1;34m()\u001B[0m\n",
      "File \u001B[1;32mindex.pyx:196\u001B[0m, in \u001B[0;36mpandas._libs.index.IndexEngine.get_loc\u001B[1;34m()\u001B[0m\n",
      "File \u001B[1;32mpandas\\\\_libs\\\\hashtable_class_helper.pxi:7081\u001B[0m, in \u001B[0;36mpandas._libs.hashtable.PyObjectHashTable.get_item\u001B[1;34m()\u001B[0m\n",
      "File \u001B[1;32mpandas\\\\_libs\\\\hashtable_class_helper.pxi:7089\u001B[0m, in \u001B[0;36mpandas._libs.hashtable.PyObjectHashTable.get_item\u001B[1;34m()\u001B[0m\n",
      "\u001B[1;31mKeyError\u001B[0m: 'year'",
      "\nThe above exception was the direct cause of the following exception:\n",
      "\u001B[1;31mKeyError\u001B[0m                                  Traceback (most recent call last)",
      "Cell \u001B[1;32mIn[785], line 1\u001B[0m\n\u001B[1;32m----> 1\u001B[0m \u001B[43mnumber_per_year\u001B[49m\u001B[43m[\u001B[49m\u001B[38;5;124;43m\"\u001B[39;49m\u001B[38;5;124;43myear\u001B[39;49m\u001B[38;5;124;43m\"\u001B[39;49m\u001B[43m]\u001B[49m\u001B[38;5;241m.\u001B[39msort_values(ascending\u001B[38;5;241m=\u001B[39m\u001B[38;5;28;01mFalse\u001B[39;00m, inplace\u001B[38;5;241m=\u001B[39m\u001B[38;5;28;01mTrue\u001B[39;00m)\n",
      "File \u001B[1;32m~\\Documents\\PycharmProjekte\\SpaceRaceDataAnalysis\\.venv\\Lib\\site-packages\\pandas\\core\\series.py:1121\u001B[0m, in \u001B[0;36mSeries.__getitem__\u001B[1;34m(self, key)\u001B[0m\n\u001B[0;32m   1118\u001B[0m     \u001B[38;5;28;01mreturn\u001B[39;00m \u001B[38;5;28mself\u001B[39m\u001B[38;5;241m.\u001B[39m_values[key]\n\u001B[0;32m   1120\u001B[0m \u001B[38;5;28;01melif\u001B[39;00m key_is_scalar:\n\u001B[1;32m-> 1121\u001B[0m     \u001B[38;5;28;01mreturn\u001B[39;00m \u001B[38;5;28;43mself\u001B[39;49m\u001B[38;5;241;43m.\u001B[39;49m\u001B[43m_get_value\u001B[49m\u001B[43m(\u001B[49m\u001B[43mkey\u001B[49m\u001B[43m)\u001B[49m\n\u001B[0;32m   1123\u001B[0m \u001B[38;5;66;03m# Convert generator to list before going through hashable part\u001B[39;00m\n\u001B[0;32m   1124\u001B[0m \u001B[38;5;66;03m# (We will iterate through the generator there to check for slices)\u001B[39;00m\n\u001B[0;32m   1125\u001B[0m \u001B[38;5;28;01mif\u001B[39;00m is_iterator(key):\n",
      "File \u001B[1;32m~\\Documents\\PycharmProjekte\\SpaceRaceDataAnalysis\\.venv\\Lib\\site-packages\\pandas\\core\\series.py:1237\u001B[0m, in \u001B[0;36mSeries._get_value\u001B[1;34m(self, label, takeable)\u001B[0m\n\u001B[0;32m   1234\u001B[0m     \u001B[38;5;28;01mreturn\u001B[39;00m \u001B[38;5;28mself\u001B[39m\u001B[38;5;241m.\u001B[39m_values[label]\n\u001B[0;32m   1236\u001B[0m \u001B[38;5;66;03m# Similar to Index.get_value, but we do not fall back to positional\u001B[39;00m\n\u001B[1;32m-> 1237\u001B[0m loc \u001B[38;5;241m=\u001B[39m \u001B[38;5;28;43mself\u001B[39;49m\u001B[38;5;241;43m.\u001B[39;49m\u001B[43mindex\u001B[49m\u001B[38;5;241;43m.\u001B[39;49m\u001B[43mget_loc\u001B[49m\u001B[43m(\u001B[49m\u001B[43mlabel\u001B[49m\u001B[43m)\u001B[49m\n\u001B[0;32m   1239\u001B[0m \u001B[38;5;28;01mif\u001B[39;00m is_integer(loc):\n\u001B[0;32m   1240\u001B[0m     \u001B[38;5;28;01mreturn\u001B[39;00m \u001B[38;5;28mself\u001B[39m\u001B[38;5;241m.\u001B[39m_values[loc]\n",
      "File \u001B[1;32m~\\Documents\\PycharmProjekte\\SpaceRaceDataAnalysis\\.venv\\Lib\\site-packages\\pandas\\core\\indexes\\base.py:3812\u001B[0m, in \u001B[0;36mIndex.get_loc\u001B[1;34m(self, key)\u001B[0m\n\u001B[0;32m   3807\u001B[0m     \u001B[38;5;28;01mif\u001B[39;00m \u001B[38;5;28misinstance\u001B[39m(casted_key, \u001B[38;5;28mslice\u001B[39m) \u001B[38;5;129;01mor\u001B[39;00m (\n\u001B[0;32m   3808\u001B[0m         \u001B[38;5;28misinstance\u001B[39m(casted_key, abc\u001B[38;5;241m.\u001B[39mIterable)\n\u001B[0;32m   3809\u001B[0m         \u001B[38;5;129;01mand\u001B[39;00m \u001B[38;5;28many\u001B[39m(\u001B[38;5;28misinstance\u001B[39m(x, \u001B[38;5;28mslice\u001B[39m) \u001B[38;5;28;01mfor\u001B[39;00m x \u001B[38;5;129;01min\u001B[39;00m casted_key)\n\u001B[0;32m   3810\u001B[0m     ):\n\u001B[0;32m   3811\u001B[0m         \u001B[38;5;28;01mraise\u001B[39;00m InvalidIndexError(key)\n\u001B[1;32m-> 3812\u001B[0m     \u001B[38;5;28;01mraise\u001B[39;00m \u001B[38;5;167;01mKeyError\u001B[39;00m(key) \u001B[38;5;28;01mfrom\u001B[39;00m \u001B[38;5;21;01merr\u001B[39;00m\n\u001B[0;32m   3813\u001B[0m \u001B[38;5;28;01mexcept\u001B[39;00m \u001B[38;5;167;01mTypeError\u001B[39;00m:\n\u001B[0;32m   3814\u001B[0m     \u001B[38;5;66;03m# If we have a listlike key, _check_indexing_error will raise\u001B[39;00m\n\u001B[0;32m   3815\u001B[0m     \u001B[38;5;66;03m#  InvalidIndexError. Otherwise we fall through and re-raise\u001B[39;00m\n\u001B[0;32m   3816\u001B[0m     \u001B[38;5;66;03m#  the TypeError.\u001B[39;00m\n\u001B[0;32m   3817\u001B[0m     \u001B[38;5;28mself\u001B[39m\u001B[38;5;241m.\u001B[39m_check_indexing_error(key)\n",
      "\u001B[1;31mKeyError\u001B[0m: 'year'"
     ]
    }
   ],
   "source": [
    "number_per_year[\"year\"].sort_values(ascending=False, inplace=True)"
   ],
   "metadata": {
    "collapsed": false,
    "ExecuteTime": {
     "end_time": "2024-05-13T14:22:15.650548700Z",
     "start_time": "2024-05-13T14:22:15.621464Z"
    }
   },
   "id": "e19232ba9d75a550",
   "execution_count": 785
  },
  {
   "cell_type": "code",
   "outputs": [],
   "source": [
    "number_per_year.index = number_per_year.index.sort_values(ascending=True)"
   ],
   "metadata": {
    "collapsed": false,
    "ExecuteTime": {
     "end_time": "2024-05-13T14:22:16.960064300Z",
     "start_time": "2024-05-13T14:22:16.940546900Z"
    }
   },
   "id": "9c807ac8b774a699",
   "execution_count": 786
  },
  {
   "cell_type": "code",
   "outputs": [],
   "source": [
    "number_per_year_df =  pd.DataFrame(number_per_year)"
   ],
   "metadata": {
    "collapsed": false,
    "ExecuteTime": {
     "end_time": "2024-05-13T14:22:17.518923Z",
     "start_time": "2024-05-13T14:22:17.503409400Z"
    }
   },
   "id": "35ecb2d22acf7e2",
   "execution_count": 787
  },
  {
   "cell_type": "code",
   "outputs": [],
   "source": [
    "number_per_year_df.columns= [\"number\"]"
   ],
   "metadata": {
    "collapsed": false,
    "ExecuteTime": {
     "end_time": "2024-05-13T14:22:18.207562500Z",
     "start_time": "2024-05-13T14:22:18.183022200Z"
    }
   },
   "id": "d81d9842c505edbe",
   "execution_count": 788
  },
  {
   "cell_type": "code",
   "outputs": [
    {
     "data": {
      "text/plain": "      number\nyear        \n1961     109\n2011      41\n1983      64\n2013      38\n1998      52\n1960     109\n2006      46\n1975      81\n1981      66\n1959     112\n1974      86\n2003      49\n2014      38\n1987      61\n2016      36\n2004      49\n1970      96\n2017      34\n1973      88\n1978      69",
      "text/html": "<div>\n<style scoped>\n    .dataframe tbody tr th:only-of-type {\n        vertical-align: middle;\n    }\n\n    .dataframe tbody tr th {\n        vertical-align: top;\n    }\n\n    .dataframe thead th {\n        text-align: right;\n    }\n</style>\n<table border=\"1\" class=\"dataframe\">\n  <thead>\n    <tr style=\"text-align: right;\">\n      <th></th>\n      <th>number</th>\n    </tr>\n    <tr>\n      <th>year</th>\n      <th></th>\n    </tr>\n  </thead>\n  <tbody>\n    <tr>\n      <th>1961</th>\n      <td>109</td>\n    </tr>\n    <tr>\n      <th>2011</th>\n      <td>41</td>\n    </tr>\n    <tr>\n      <th>1983</th>\n      <td>64</td>\n    </tr>\n    <tr>\n      <th>2013</th>\n      <td>38</td>\n    </tr>\n    <tr>\n      <th>1998</th>\n      <td>52</td>\n    </tr>\n    <tr>\n      <th>1960</th>\n      <td>109</td>\n    </tr>\n    <tr>\n      <th>2006</th>\n      <td>46</td>\n    </tr>\n    <tr>\n      <th>1975</th>\n      <td>81</td>\n    </tr>\n    <tr>\n      <th>1981</th>\n      <td>66</td>\n    </tr>\n    <tr>\n      <th>1959</th>\n      <td>112</td>\n    </tr>\n    <tr>\n      <th>1974</th>\n      <td>86</td>\n    </tr>\n    <tr>\n      <th>2003</th>\n      <td>49</td>\n    </tr>\n    <tr>\n      <th>2014</th>\n      <td>38</td>\n    </tr>\n    <tr>\n      <th>1987</th>\n      <td>61</td>\n    </tr>\n    <tr>\n      <th>2016</th>\n      <td>36</td>\n    </tr>\n    <tr>\n      <th>2004</th>\n      <td>49</td>\n    </tr>\n    <tr>\n      <th>1970</th>\n      <td>96</td>\n    </tr>\n    <tr>\n      <th>2017</th>\n      <td>34</td>\n    </tr>\n    <tr>\n      <th>1973</th>\n      <td>88</td>\n    </tr>\n    <tr>\n      <th>1978</th>\n      <td>69</td>\n    </tr>\n  </tbody>\n</table>\n</div>"
     },
     "execution_count": 789,
     "metadata": {},
     "output_type": "execute_result"
    }
   ],
   "source": [
    "number_per_year_df.sample(20)"
   ],
   "metadata": {
    "collapsed": false,
    "ExecuteTime": {
     "end_time": "2024-05-13T14:22:19.570868900Z",
     "start_time": "2024-05-13T14:22:19.536807700Z"
    }
   },
   "id": "c02076bc1e5003d0",
   "execution_count": 789
  },
  {
   "cell_type": "code",
   "outputs": [
    {
     "data": {
      "text/plain": "<Figure size 640x480 with 1 Axes>",
      "image/png": "[encoded data removed]"
     },
     "metadata": {},
     "output_type": "display_data"
    }
   ],
   "source": [
    "sns.lineplot(data=number_per_year_df, x=number_per_year_df.index, y = \"number\")\n",
    "plt.xticks(rotation=90)\n",
    "plt.gca().xaxis.set_major_locator(plt.MaxNLocator(30))\n",
    "plt.xlim(left=number_per_year_df.index.min(), right=number_per_year_df.index.max())\n",
    "plt.show()"
   ],
   "metadata": {
    "collapsed": false,
    "ExecuteTime": {
     "end_time": "2024-05-13T14:22:21.170506800Z",
     "start_time": "2024-05-13T14:22:20.935669400Z"
    }
   },
   "id": "cb61c14a40ba9fe6",
   "execution_count": 790
  },
  {
   "cell_type": "markdown",
   "source": [
    "<h3>Wie hoch war die Anzahl der erfolgrichen Missionen in Amerika und Russland</h3>"
   ],
   "metadata": {
    "collapsed": false
   },
   "id": "1677a848c31e3361"
  },
  {
   "cell_type": "code",
   "outputs": [
    {
     "data": {
      "text/plain": "                                              Location  number\nStatus of the mission                                         \nFailure                                      Australia       3\nFailure                                    Barents Sea       1\nFailure                                         Brazil       2\nFailure                                          China      19\nFailure                                         France      13\nFailure                                          India       8\nFailure                                           Iran       8\nFailure                                         Israel       2\nFailure                                          Japan      10\nFailure                                     Kazakhstan      72\nFailure                                     New Mexico       1\nFailure                                    New Zealand       2\nFailure                                    North Korea       3\nFailure                 Pacific Missile Range Facility       1\nFailure                                  Pacific Ocean       3\nFailure                                         Russia      62\nFailure                                    South Korea       2\nFailure                                            USA     127\nPartial Failure                                  China       6\nPartial Failure                                 France       5\nPartial Failure                                  India       5\nPartial Failure                                  Japan       3\nPartial Failure                             Kazakhstan      20\nPartial Failure                             New Mexico       3\nPartial Failure                                 Russia      30\nPartial Failure                                    USA      30\nPrelaunch Failure                               Brazil       1\nPrelaunch Failure                                 Iran       1\nPrelaunch Failure                           Kazakhstan       1\nPrelaunch Failure                                  USA       1\nSuccess                                      Australia       3\nSuccess                                    Barents Sea       2\nSuccess                                          China     243\nSuccess                                         France     285\nSuccess                                   Gran Canaria       2\nSuccess                                          India      63\nSuccess                                           Iran       4\nSuccess                                         Israel       9\nSuccess                                          Japan     113\nSuccess                                     Kazakhstan     608\nSuccess                                          Kenya       9\nSuccess                                    New Zealand      11\nSuccess                                    North Korea       2\nSuccess                                  Pacific Ocean      33\nSuccess                                         Russia    1303\nSuccess                      Shahrud Missile Test Site       1\nSuccess                                    South Korea       1\nSuccess                                            USA    1186\nSuccess                                     Yellow Sea       1",
      "text/html": "<div>\n<style scoped>\n    .dataframe tbody tr th:only-of-type {\n        vertical-align: middle;\n    }\n\n    .dataframe tbody tr th {\n        vertical-align: top;\n    }\n\n    .dataframe thead th {\n        text-align: right;\n    }\n</style>\n<table border=\"1\" class=\"dataframe\">\n  <thead>\n    <tr style=\"text-align: right;\">\n      <th></th>\n      <th>Location</th>\n      <th>number</th>\n    </tr>\n    <tr>\n      <th>Status of the mission</th>\n      <th></th>\n      <th></th>\n    </tr>\n  </thead>\n  <tbody>\n    <tr>\n      <th>Failure</th>\n      <td>Australia</td>\n      <td>3</td>\n    </tr>\n    <tr>\n      <th>Failure</th>\n      <td>Barents Sea</td>\n      <td>1</td>\n    </tr>\n    <tr>\n      <th>Failure</th>\n      <td>Brazil</td>\n      <td>2</td>\n    </tr>\n    <tr>\n      <th>Failure</th>\n      <td>China</td>\n      <td>19</td>\n    </tr>\n    <tr>\n      <th>Failure</th>\n      <td>France</td>\n      <td>13</td>\n    </tr>\n    <tr>\n      <th>Failure</th>\n      <td>India</td>\n      <td>8</td>\n    </tr>\n    <tr>\n      <th>Failure</th>\n      <td>Iran</td>\n      <td>8</td>\n    </tr>\n    <tr>\n      <th>Failure</th>\n      <td>Israel</td>\n      <td>2</td>\n    </tr>\n    <tr>\n      <th>Failure</th>\n      <td>Japan</td>\n      <td>10</td>\n    </tr>\n    <tr>\n      <th>Failure</th>\n      <td>Kazakhstan</td>\n      <td>72</td>\n    </tr>\n    <tr>\n      <th>Failure</th>\n      <td>New Mexico</td>\n      <td>1</td>\n    </tr>\n    <tr>\n      <th>Failure</th>\n      <td>New Zealand</td>\n      <td>2</td>\n    </tr>\n    <tr>\n      <th>Failure</th>\n      <td>North Korea</td>\n      <td>3</td>\n    </tr>\n    <tr>\n      <th>Failure</th>\n      <td>Pacific Missile Range Facility</td>\n      <td>1</td>\n    </tr>\n    <tr>\n      <th>Failure</th>\n      <td>Pacific Ocean</td>\n      <td>3</td>\n    </tr>\n    <tr>\n      <th>Failure</th>\n      <td>Russia</td>\n      <td>62</td>\n    </tr>\n    <tr>\n      <th>Failure</th>\n      <td>South Korea</td>\n      <td>2</td>\n    </tr>\n    <tr>\n      <th>Failure</th>\n      <td>USA</td>\n      <td>127</td>\n    </tr>\n    <tr>\n      <th>Partial Failure</th>\n      <td>China</td>\n      <td>6</td>\n    </tr>\n    <tr>\n      <th>Partial Failure</th>\n      <td>France</td>\n      <td>5</td>\n    </tr>\n    <tr>\n      <th>Partial Failure</th>\n      <td>India</td>\n      <td>5</td>\n    </tr>\n    <tr>\n      <th>Partial Failure</th>\n      <td>Japan</td>\n      <td>3</td>\n    </tr>\n    <tr>\n      <th>Partial Failure</th>\n      <td>Kazakhstan</td>\n      <td>20</td>\n    </tr>\n    <tr>\n      <th>Partial Failure</th>\n      <td>New Mexico</td>\n      <td>3</td>\n    </tr>\n    <tr>\n      <th>Partial Failure</th>\n      <td>Russia</td>\n      <td>30</td>\n    </tr>\n    <tr>\n      <th>Partial Failure</th>\n      <td>USA</td>\n      <td>30</td>\n    </tr>\n    <tr>\n      <th>Prelaunch Failure</th>\n      <td>Brazil</td>\n      <td>1</td>\n    </tr>\n    <tr>\n      <th>Prelaunch Failure</th>\n      <td>Iran</td>\n      <td>1</td>\n    </tr>\n    <tr>\n      <th>Prelaunch Failure</th>\n      <td>Kazakhstan</td>\n      <td>1</td>\n    </tr>\n    <tr>\n      <th>Prelaunch Failure</th>\n      <td>USA</td>\n      <td>1</td>\n    </tr>\n    <tr>\n      <th>Success</th>\n      <td>Australia</td>\n      <td>3</td>\n    </tr>\n    <tr>\n      <th>Success</th>\n      <td>Barents Sea</td>\n      <td>2</td>\n    </tr>\n    <tr>\n      <th>Success</th>\n      <td>China</td>\n      <td>243</td>\n    </tr>\n    <tr>\n      <th>Success</th>\n      <td>France</td>\n      <td>285</td>\n    </tr>\n    <tr>\n      <th>Success</th>\n      <td>Gran Canaria</td>\n      <td>2</td>\n    </tr>\n    <tr>\n      <th>Success</th>\n      <td>India</td>\n      <td>63</td>\n    </tr>\n    <tr>\n      <th>Success</th>\n      <td>Iran</td>\n      <td>4</td>\n    </tr>\n    <tr>\n      <th>Success</th>\n      <td>Israel</td>\n      <td>9</td>\n    </tr>\n    <tr>\n      <th>Success</th>\n      <td>Japan</td>\n      <td>113</td>\n    </tr>\n    <tr>\n      <th>Success</th>\n      <td>Kazakhstan</td>\n      <td>608</td>\n    </tr>\n    <tr>\n      <th>Success</th>\n      <td>Kenya</td>\n      <td>9</td>\n    </tr>\n    <tr>\n      <th>Success</th>\n      <td>New Zealand</td>\n      <td>11</td>\n    </tr>\n    <tr>\n      <th>Success</th>\n      <td>North Korea</td>\n      <td>2</td>\n    </tr>\n    <tr>\n      <th>Success</th>\n      <td>Pacific Ocean</td>\n      <td>33</td>\n    </tr>\n    <tr>\n      <th>Success</th>\n      <td>Russia</td>\n      <td>1303</td>\n    </tr>\n    <tr>\n      <th>Success</th>\n      <td>Shahrud Missile Test Site</td>\n      <td>1</td>\n    </tr>\n    <tr>\n      <th>Success</th>\n      <td>South Korea</td>\n      <td>1</td>\n    </tr>\n    <tr>\n      <th>Success</th>\n      <td>USA</td>\n      <td>1186</td>\n    </tr>\n    <tr>\n      <th>Success</th>\n      <td>Yellow Sea</td>\n      <td>1</td>\n    </tr>\n  </tbody>\n</table>\n</div>"
     },
     "execution_count": 795,
     "metadata": {},
     "output_type": "execute_result"
    }
   ],
   "source": [
    "space_mission_grouped_by_location"
   ],
   "metadata": {
    "collapsed": false,
    "ExecuteTime": {
     "end_time": "2024-05-13T14:23:01.876081100Z",
     "start_time": "2024-05-13T14:23:01.834097200Z"
    }
   },
   "id": "898e3083bc40eb9e",
   "execution_count": 795
  },
  {
   "cell_type": "code",
   "outputs": [],
   "source": [
    "space_mission_grouped_by_location_success = space_mission_grouped_by_location.loc[\"Success\"]"
   ],
   "metadata": {
    "collapsed": false,
    "ExecuteTime": {
     "end_time": "2024-05-13T14:23:02.065118900Z",
     "start_time": "2024-05-13T14:23:02.037054800Z"
    }
   },
   "id": "fa9ccd9b8538e8e5",
   "execution_count": 796
  },
  {
   "cell_type": "code",
   "outputs": [],
   "source": [
    "sucess_russia_usa = space_mission_grouped_by_location_success.sort_values(by=\"number\", ascending=False)[:2]"
   ],
   "metadata": {
    "collapsed": false,
    "ExecuteTime": {
     "end_time": "2024-05-13T14:23:02.208456400Z",
     "start_time": "2024-05-13T14:23:02.193532400Z"
    }
   },
   "id": "808cdebe1756b1ac",
   "execution_count": 797
  },
  {
   "cell_type": "code",
   "outputs": [
    {
     "data": {
      "text/plain": "                      Location  number\nStatus of the mission                 \nSuccess                 Russia    1303\nSuccess                    USA    1186",
      "text/html": "<div>\n<style scoped>\n    .dataframe tbody tr th:only-of-type {\n        vertical-align: middle;\n    }\n\n    .dataframe tbody tr th {\n        vertical-align: top;\n    }\n\n    .dataframe thead th {\n        text-align: right;\n    }\n</style>\n<table border=\"1\" class=\"dataframe\">\n  <thead>\n    <tr style=\"text-align: right;\">\n      <th></th>\n      <th>Location</th>\n      <th>number</th>\n    </tr>\n    <tr>\n      <th>Status of the mission</th>\n      <th></th>\n      <th></th>\n    </tr>\n  </thead>\n  <tbody>\n    <tr>\n      <th>Success</th>\n      <td>Russia</td>\n      <td>1303</td>\n    </tr>\n    <tr>\n      <th>Success</th>\n      <td>USA</td>\n      <td>1186</td>\n    </tr>\n  </tbody>\n</table>\n</div>"
     },
     "execution_count": 798,
     "metadata": {},
     "output_type": "execute_result"
    }
   ],
   "source": [
    "sucess_russia_usa"
   ],
   "metadata": {
    "collapsed": false,
    "ExecuteTime": {
     "end_time": "2024-05-13T14:23:02.863137300Z",
     "start_time": "2024-05-13T14:23:02.798019300Z"
    }
   },
   "id": "db8a234e05b5942c",
   "execution_count": 798
  },
  {
   "cell_type": "code",
   "outputs": [
    {
     "data": {
      "text/plain": "Text(0.5, 0, '')"
     },
     "execution_count": 799,
     "metadata": {},
     "output_type": "execute_result"
    },
    {
     "data": {
      "text/plain": "<Figure size 640x480 with 1 Axes>",
      "image/png": "[encoded data removed]"
     },
     "metadata": {},
     "output_type": "display_data"
    }
   ],
   "source": [
    "sns.barplot(data=sucess_russia_usa, x=\"Location\", y=\"number\")\n",
    "plt.title(\"Anzahl der erfolgreichen Raumfahrtmissionen\", pad=20)\n",
    "plt.ylabel(\"\")\n",
    "plt.xlabel(\"\")"
   ],
   "metadata": {
    "collapsed": false,
    "ExecuteTime": {
     "end_time": "2024-05-13T14:23:03.266611100Z",
     "start_time": "2024-05-13T14:23:03.139693600Z"
    }
   },
   "id": "89acf80ad3c37393",
   "execution_count": 799
  },
  {
   "cell_type": "markdown",
   "source": [
    "<h3>Wie hoch war die Scheiterrate in Prozent von Russland und Amerika</h3>"
   ],
   "metadata": {
    "collapsed": false
   },
   "id": "24fabae5d70ad8df"
  },
  {
   "cell_type": "code",
   "outputs": [],
   "source": [
    "space_mission_grouped_by_location_failure = space_mission_grouped_by_location.loc[\"Failure\"]"
   ],
   "metadata": {
    "collapsed": false,
    "ExecuteTime": {
     "end_time": "2024-05-13T14:23:18.885082600Z",
     "start_time": "2024-05-13T14:23:18.860467900Z"
    }
   },
   "id": "f52a0f22718ca7ce",
   "execution_count": 800
  },
  {
   "cell_type": "code",
   "outputs": [
    {
     "ename": "AttributeError",
     "evalue": "'DataFrame' object has no attribute 'Location'",
     "output_type": "error",
     "traceback": [
      "\u001B[1;31m---------------------------------------------------------------------------\u001B[0m",
      "\u001B[1;31mAttributeError\u001B[0m                            Traceback (most recent call last)",
      "\u001B[1;32m~\\AppData\\Local\\Temp\\ipykernel_19080\\1401635869.py\u001B[0m in \u001B[0;36m?\u001B[1;34m()\u001B[0m\n\u001B[1;32m----> 1\u001B[1;33m \u001B[0mnumber_of_missions\u001B[0m \u001B[1;33m=\u001B[0m \u001B[0mspace_mission_df\u001B[0m\u001B[1;33m.\u001B[0m\u001B[0mLocation\u001B[0m\u001B[1;33m.\u001B[0m\u001B[0mvalue_counts\u001B[0m\u001B[1;33m(\u001B[0m\u001B[1;33m)\u001B[0m\u001B[1;33m[\u001B[0m\u001B[1;33m:\u001B[0m\u001B[1;36m2\u001B[0m\u001B[1;33m]\u001B[0m\u001B[1;33m\u001B[0m\u001B[1;33m\u001B[0m\u001B[0m\n\u001B[0m",
      "\u001B[1;32m~\\Documents\\PycharmProjekte\\SpaceRaceDataAnalysis\\.venv\\Lib\\site-packages\\pandas\\core\\generic.py\u001B[0m in \u001B[0;36m?\u001B[1;34m(self, name)\u001B[0m\n\u001B[0;32m   6295\u001B[0m             \u001B[1;32mand\u001B[0m \u001B[0mname\u001B[0m \u001B[1;32mnot\u001B[0m \u001B[1;32min\u001B[0m \u001B[0mself\u001B[0m\u001B[1;33m.\u001B[0m\u001B[0m_accessors\u001B[0m\u001B[1;33m\u001B[0m\u001B[1;33m\u001B[0m\u001B[0m\n\u001B[0;32m   6296\u001B[0m             \u001B[1;32mand\u001B[0m \u001B[0mself\u001B[0m\u001B[1;33m.\u001B[0m\u001B[0m_info_axis\u001B[0m\u001B[1;33m.\u001B[0m\u001B[0m_can_hold_identifiers_and_holds_name\u001B[0m\u001B[1;33m(\u001B[0m\u001B[0mname\u001B[0m\u001B[1;33m)\u001B[0m\u001B[1;33m\u001B[0m\u001B[1;33m\u001B[0m\u001B[0m\n\u001B[0;32m   6297\u001B[0m         \u001B[1;33m)\u001B[0m\u001B[1;33m:\u001B[0m\u001B[1;33m\u001B[0m\u001B[1;33m\u001B[0m\u001B[0m\n\u001B[0;32m   6298\u001B[0m             \u001B[1;32mreturn\u001B[0m \u001B[0mself\u001B[0m\u001B[1;33m[\u001B[0m\u001B[0mname\u001B[0m\u001B[1;33m]\u001B[0m\u001B[1;33m\u001B[0m\u001B[1;33m\u001B[0m\u001B[0m\n\u001B[1;32m-> 6299\u001B[1;33m         \u001B[1;32mreturn\u001B[0m \u001B[0mobject\u001B[0m\u001B[1;33m.\u001B[0m\u001B[0m__getattribute__\u001B[0m\u001B[1;33m(\u001B[0m\u001B[0mself\u001B[0m\u001B[1;33m,\u001B[0m \u001B[0mname\u001B[0m\u001B[1;33m)\u001B[0m\u001B[1;33m\u001B[0m\u001B[1;33m\u001B[0m\u001B[0m\n\u001B[0m",
      "\u001B[1;31mAttributeError\u001B[0m: 'DataFrame' object has no attribute 'Location'"
     ]
    }
   ],
   "source": [
    "number_of_missions = space_mission_df.Location.value_counts()[:2]"
   ],
   "metadata": {
    "collapsed": false,
    "ExecuteTime": {
     "end_time": "2024-05-13T14:23:24.425469200Z",
     "start_time": "2024-05-13T14:23:24.410309500Z"
    }
   },
   "id": "8244d4eca4a00b37",
   "execution_count": 801
  },
  {
   "cell_type": "code",
   "outputs": [
    {
     "data": {
      "text/plain": "Index([' Russia', ' USA'], dtype='object', name='Location')"
     },
     "execution_count": 802,
     "metadata": {},
     "output_type": "execute_result"
    }
   ],
   "source": [
    "number_of_missions.index"
   ],
   "metadata": {
    "collapsed": false,
    "ExecuteTime": {
     "end_time": "2024-05-13T14:23:29.387507600Z",
     "start_time": "2024-05-13T14:23:29.367369900Z"
    }
   },
   "id": "93e6b1b4434aa2ba",
   "execution_count": 802
  },
  {
   "cell_type": "code",
   "outputs": [],
   "source": [
    "number_of_missions.columns = [\"number\"]"
   ],
   "metadata": {
    "collapsed": false,
    "ExecuteTime": {
     "end_time": "2024-05-13T14:23:30.083241400Z",
     "start_time": "2024-05-13T14:23:30.071218100Z"
    }
   },
   "id": "e2648f5e146d4854",
   "execution_count": 803
  },
  {
   "cell_type": "code",
   "outputs": [],
   "source": [
    "number_of_missions_df = pd.DataFrame(number_of_missions)"
   ],
   "metadata": {
    "collapsed": false,
    "ExecuteTime": {
     "end_time": "2024-05-13T14:23:32.999703900Z",
     "start_time": "2024-05-13T14:23:32.986188100Z"
    }
   },
   "id": "91cdd2e467e1981f",
   "execution_count": 804
  },
  {
   "cell_type": "code",
   "outputs": [
    {
     "data": {
      "text/plain": "Index([' Russia', ' USA'], dtype='object', name='Location')"
     },
     "execution_count": 805,
     "metadata": {},
     "output_type": "execute_result"
    }
   ],
   "source": [
    "number_of_missions.index"
   ],
   "metadata": {
    "collapsed": false,
    "ExecuteTime": {
     "end_time": "2024-05-13T14:23:33.617217600Z",
     "start_time": "2024-05-13T14:23:33.599038800Z"
    }
   },
   "id": "6dc803c9a29542e7",
   "execution_count": 805
  },
  {
   "cell_type": "code",
   "outputs": [
    {
     "data": {
      "text/plain": "array([[1395],\n       [1344]], dtype=int64)"
     },
     "execution_count": 806,
     "metadata": {},
     "output_type": "execute_result"
    }
   ],
   "source": [
    "number_of_missions_df.loc[[\" Russia\", \" USA\"]].values"
   ],
   "metadata": {
    "collapsed": false,
    "ExecuteTime": {
     "end_time": "2024-05-13T14:23:34.873801800Z",
     "start_time": "2024-05-13T14:23:34.831311Z"
    }
   },
   "id": "379100af1dd24106",
   "execution_count": 806
  },
  {
   "cell_type": "code",
   "outputs": [],
   "source": [],
   "metadata": {
    "collapsed": false
   },
   "id": "f8028f9e470187ae"
  },
  {
   "cell_type": "code",
   "outputs": [
    {
     "ename": "KeyError",
     "evalue": "\"None of [Index([' USA', ' Russia'], dtype='object', name='Status of the mission')] are in the [index]\"",
     "output_type": "error",
     "traceback": [
      "\u001B[1;31m---------------------------------------------------------------------------\u001B[0m",
      "\u001B[1;31mKeyError\u001B[0m                                  Traceback (most recent call last)",
      "Cell \u001B[1;32mIn[807], line 1\u001B[0m\n\u001B[1;32m----> 1\u001B[0m space_mission_grouped_by_location_failure \u001B[38;5;241m=\u001B[39m \u001B[43mspace_mission_grouped_by_location_failure\u001B[49m\u001B[38;5;241;43m.\u001B[39;49m\u001B[43msort_values\u001B[49m\u001B[43m(\u001B[49m\u001B[43mby\u001B[49m\u001B[38;5;241;43m=\u001B[39;49m\u001B[38;5;124;43m\"\u001B[39;49m\u001B[38;5;124;43mnumber\u001B[39;49m\u001B[38;5;124;43m\"\u001B[39;49m\u001B[43m,\u001B[49m\u001B[43m \u001B[49m\u001B[43mascending\u001B[49m\u001B[38;5;241;43m=\u001B[39;49m\u001B[38;5;28;43;01mFalse\u001B[39;49;00m\u001B[43m)\u001B[49m\u001B[38;5;241;43m.\u001B[39;49m\u001B[43mloc\u001B[49m\u001B[43m[\u001B[49m\u001B[43m[\u001B[49m\u001B[38;5;124;43m\"\u001B[39;49m\u001B[38;5;124;43m USA\u001B[39;49m\u001B[38;5;124;43m\"\u001B[39;49m\u001B[43m,\u001B[49m\u001B[43m \u001B[49m\u001B[38;5;124;43m\"\u001B[39;49m\u001B[38;5;124;43m Russia\u001B[39;49m\u001B[38;5;124;43m\"\u001B[39;49m\u001B[43m]\u001B[49m\u001B[43m]\u001B[49m\n",
      "File \u001B[1;32m~\\Documents\\PycharmProjekte\\SpaceRaceDataAnalysis\\.venv\\Lib\\site-packages\\pandas\\core\\indexing.py:1191\u001B[0m, in \u001B[0;36m_LocationIndexer.__getitem__\u001B[1;34m(self, key)\u001B[0m\n\u001B[0;32m   1189\u001B[0m maybe_callable \u001B[38;5;241m=\u001B[39m com\u001B[38;5;241m.\u001B[39mapply_if_callable(key, \u001B[38;5;28mself\u001B[39m\u001B[38;5;241m.\u001B[39mobj)\n\u001B[0;32m   1190\u001B[0m maybe_callable \u001B[38;5;241m=\u001B[39m \u001B[38;5;28mself\u001B[39m\u001B[38;5;241m.\u001B[39m_check_deprecated_callable_usage(key, maybe_callable)\n\u001B[1;32m-> 1191\u001B[0m \u001B[38;5;28;01mreturn\u001B[39;00m \u001B[38;5;28;43mself\u001B[39;49m\u001B[38;5;241;43m.\u001B[39;49m\u001B[43m_getitem_axis\u001B[49m\u001B[43m(\u001B[49m\u001B[43mmaybe_callable\u001B[49m\u001B[43m,\u001B[49m\u001B[43m \u001B[49m\u001B[43maxis\u001B[49m\u001B[38;5;241;43m=\u001B[39;49m\u001B[43maxis\u001B[49m\u001B[43m)\u001B[49m\n",
      "File \u001B[1;32m~\\Documents\\PycharmProjekte\\SpaceRaceDataAnalysis\\.venv\\Lib\\site-packages\\pandas\\core\\indexing.py:1420\u001B[0m, in \u001B[0;36m_LocIndexer._getitem_axis\u001B[1;34m(self, key, axis)\u001B[0m\n\u001B[0;32m   1417\u001B[0m     \u001B[38;5;28;01mif\u001B[39;00m \u001B[38;5;28mhasattr\u001B[39m(key, \u001B[38;5;124m\"\u001B[39m\u001B[38;5;124mndim\u001B[39m\u001B[38;5;124m\"\u001B[39m) \u001B[38;5;129;01mand\u001B[39;00m key\u001B[38;5;241m.\u001B[39mndim \u001B[38;5;241m>\u001B[39m \u001B[38;5;241m1\u001B[39m:\n\u001B[0;32m   1418\u001B[0m         \u001B[38;5;28;01mraise\u001B[39;00m \u001B[38;5;167;01mValueError\u001B[39;00m(\u001B[38;5;124m\"\u001B[39m\u001B[38;5;124mCannot index with multidimensional key\u001B[39m\u001B[38;5;124m\"\u001B[39m)\n\u001B[1;32m-> 1420\u001B[0m     \u001B[38;5;28;01mreturn\u001B[39;00m \u001B[38;5;28;43mself\u001B[39;49m\u001B[38;5;241;43m.\u001B[39;49m\u001B[43m_getitem_iterable\u001B[49m\u001B[43m(\u001B[49m\u001B[43mkey\u001B[49m\u001B[43m,\u001B[49m\u001B[43m \u001B[49m\u001B[43maxis\u001B[49m\u001B[38;5;241;43m=\u001B[39;49m\u001B[43maxis\u001B[49m\u001B[43m)\u001B[49m\n\u001B[0;32m   1422\u001B[0m \u001B[38;5;66;03m# nested tuple slicing\u001B[39;00m\n\u001B[0;32m   1423\u001B[0m \u001B[38;5;28;01mif\u001B[39;00m is_nested_tuple(key, labels):\n",
      "File \u001B[1;32m~\\Documents\\PycharmProjekte\\SpaceRaceDataAnalysis\\.venv\\Lib\\site-packages\\pandas\\core\\indexing.py:1360\u001B[0m, in \u001B[0;36m_LocIndexer._getitem_iterable\u001B[1;34m(self, key, axis)\u001B[0m\n\u001B[0;32m   1357\u001B[0m \u001B[38;5;28mself\u001B[39m\u001B[38;5;241m.\u001B[39m_validate_key(key, axis)\n\u001B[0;32m   1359\u001B[0m \u001B[38;5;66;03m# A collection of keys\u001B[39;00m\n\u001B[1;32m-> 1360\u001B[0m keyarr, indexer \u001B[38;5;241m=\u001B[39m \u001B[38;5;28;43mself\u001B[39;49m\u001B[38;5;241;43m.\u001B[39;49m\u001B[43m_get_listlike_indexer\u001B[49m\u001B[43m(\u001B[49m\u001B[43mkey\u001B[49m\u001B[43m,\u001B[49m\u001B[43m \u001B[49m\u001B[43maxis\u001B[49m\u001B[43m)\u001B[49m\n\u001B[0;32m   1361\u001B[0m \u001B[38;5;28;01mreturn\u001B[39;00m \u001B[38;5;28mself\u001B[39m\u001B[38;5;241m.\u001B[39mobj\u001B[38;5;241m.\u001B[39m_reindex_with_indexers(\n\u001B[0;32m   1362\u001B[0m     {axis: [keyarr, indexer]}, copy\u001B[38;5;241m=\u001B[39m\u001B[38;5;28;01mTrue\u001B[39;00m, allow_dups\u001B[38;5;241m=\u001B[39m\u001B[38;5;28;01mTrue\u001B[39;00m\n\u001B[0;32m   1363\u001B[0m )\n",
      "File \u001B[1;32m~\\Documents\\PycharmProjekte\\SpaceRaceDataAnalysis\\.venv\\Lib\\site-packages\\pandas\\core\\indexing.py:1558\u001B[0m, in \u001B[0;36m_LocIndexer._get_listlike_indexer\u001B[1;34m(self, key, axis)\u001B[0m\n\u001B[0;32m   1555\u001B[0m ax \u001B[38;5;241m=\u001B[39m \u001B[38;5;28mself\u001B[39m\u001B[38;5;241m.\u001B[39mobj\u001B[38;5;241m.\u001B[39m_get_axis(axis)\n\u001B[0;32m   1556\u001B[0m axis_name \u001B[38;5;241m=\u001B[39m \u001B[38;5;28mself\u001B[39m\u001B[38;5;241m.\u001B[39mobj\u001B[38;5;241m.\u001B[39m_get_axis_name(axis)\n\u001B[1;32m-> 1558\u001B[0m keyarr, indexer \u001B[38;5;241m=\u001B[39m \u001B[43max\u001B[49m\u001B[38;5;241;43m.\u001B[39;49m\u001B[43m_get_indexer_strict\u001B[49m\u001B[43m(\u001B[49m\u001B[43mkey\u001B[49m\u001B[43m,\u001B[49m\u001B[43m \u001B[49m\u001B[43maxis_name\u001B[49m\u001B[43m)\u001B[49m\n\u001B[0;32m   1560\u001B[0m \u001B[38;5;28;01mreturn\u001B[39;00m keyarr, indexer\n",
      "File \u001B[1;32m~\\Documents\\PycharmProjekte\\SpaceRaceDataAnalysis\\.venv\\Lib\\site-packages\\pandas\\core\\indexes\\base.py:6200\u001B[0m, in \u001B[0;36mIndex._get_indexer_strict\u001B[1;34m(self, key, axis_name)\u001B[0m\n\u001B[0;32m   6197\u001B[0m \u001B[38;5;28;01melse\u001B[39;00m:\n\u001B[0;32m   6198\u001B[0m     keyarr, indexer, new_indexer \u001B[38;5;241m=\u001B[39m \u001B[38;5;28mself\u001B[39m\u001B[38;5;241m.\u001B[39m_reindex_non_unique(keyarr)\n\u001B[1;32m-> 6200\u001B[0m \u001B[38;5;28;43mself\u001B[39;49m\u001B[38;5;241;43m.\u001B[39;49m\u001B[43m_raise_if_missing\u001B[49m\u001B[43m(\u001B[49m\u001B[43mkeyarr\u001B[49m\u001B[43m,\u001B[49m\u001B[43m \u001B[49m\u001B[43mindexer\u001B[49m\u001B[43m,\u001B[49m\u001B[43m \u001B[49m\u001B[43maxis_name\u001B[49m\u001B[43m)\u001B[49m\n\u001B[0;32m   6202\u001B[0m keyarr \u001B[38;5;241m=\u001B[39m \u001B[38;5;28mself\u001B[39m\u001B[38;5;241m.\u001B[39mtake(indexer)\n\u001B[0;32m   6203\u001B[0m \u001B[38;5;28;01mif\u001B[39;00m \u001B[38;5;28misinstance\u001B[39m(key, Index):\n\u001B[0;32m   6204\u001B[0m     \u001B[38;5;66;03m# GH 42790 - Preserve name from an Index\u001B[39;00m\n",
      "File \u001B[1;32m~\\Documents\\PycharmProjekte\\SpaceRaceDataAnalysis\\.venv\\Lib\\site-packages\\pandas\\core\\indexes\\base.py:6249\u001B[0m, in \u001B[0;36mIndex._raise_if_missing\u001B[1;34m(self, key, indexer, axis_name)\u001B[0m\n\u001B[0;32m   6247\u001B[0m \u001B[38;5;28;01mif\u001B[39;00m nmissing:\n\u001B[0;32m   6248\u001B[0m     \u001B[38;5;28;01mif\u001B[39;00m nmissing \u001B[38;5;241m==\u001B[39m \u001B[38;5;28mlen\u001B[39m(indexer):\n\u001B[1;32m-> 6249\u001B[0m         \u001B[38;5;28;01mraise\u001B[39;00m \u001B[38;5;167;01mKeyError\u001B[39;00m(\u001B[38;5;124mf\u001B[39m\u001B[38;5;124m\"\u001B[39m\u001B[38;5;124mNone of [\u001B[39m\u001B[38;5;132;01m{\u001B[39;00mkey\u001B[38;5;132;01m}\u001B[39;00m\u001B[38;5;124m] are in the [\u001B[39m\u001B[38;5;132;01m{\u001B[39;00maxis_name\u001B[38;5;132;01m}\u001B[39;00m\u001B[38;5;124m]\u001B[39m\u001B[38;5;124m\"\u001B[39m)\n\u001B[0;32m   6251\u001B[0m     not_found \u001B[38;5;241m=\u001B[39m \u001B[38;5;28mlist\u001B[39m(ensure_index(key)[missing_mask\u001B[38;5;241m.\u001B[39mnonzero()[\u001B[38;5;241m0\u001B[39m]]\u001B[38;5;241m.\u001B[39munique())\n\u001B[0;32m   6252\u001B[0m     \u001B[38;5;28;01mraise\u001B[39;00m \u001B[38;5;167;01mKeyError\u001B[39;00m(\u001B[38;5;124mf\u001B[39m\u001B[38;5;124m\"\u001B[39m\u001B[38;5;132;01m{\u001B[39;00mnot_found\u001B[38;5;132;01m}\u001B[39;00m\u001B[38;5;124m not in index\u001B[39m\u001B[38;5;124m\"\u001B[39m)\n",
      "\u001B[1;31mKeyError\u001B[0m: \"None of [Index([' USA', ' Russia'], dtype='object', name='Status of the mission')] are in the [index]\""
     ]
    }
   ],
   "source": [
    "space_mission_grouped_by_location_failure = space_mission_grouped_by_location_failure.sort_values(by=\"number\", ascending=False).loc[[\" USA\", \" Russia\"]]"
   ],
   "metadata": {
    "collapsed": false,
    "ExecuteTime": {
     "end_time": "2024-05-13T14:24:00.258223500Z",
     "start_time": "2024-05-13T14:24:00.204515400Z"
    }
   },
   "id": "f065f4e0dc44c5f1",
   "execution_count": 807
  },
  {
   "cell_type": "code",
   "outputs": [
    {
     "data": {
      "text/plain": "                                              Location  number\nStatus of the mission                                         \nFailure                                      Australia       3\nFailure                                    Barents Sea       1\nFailure                                         Brazil       2\nFailure                                          China      19\nFailure                                         France      13\nFailure                                          India       8\nFailure                                           Iran       8\nFailure                                         Israel       2\nFailure                                          Japan      10\nFailure                                     Kazakhstan      72\nFailure                                     New Mexico       1\nFailure                                    New Zealand       2\nFailure                                    North Korea       3\nFailure                 Pacific Missile Range Facility       1\nFailure                                  Pacific Ocean       3\nFailure                                         Russia      62\nFailure                                    South Korea       2\nFailure                                            USA     127",
      "text/html": "<div>\n<style scoped>\n    .dataframe tbody tr th:only-of-type {\n        vertical-align: middle;\n    }\n\n    .dataframe tbody tr th {\n        vertical-align: top;\n    }\n\n    .dataframe thead th {\n        text-align: right;\n    }\n</style>\n<table border=\"1\" class=\"dataframe\">\n  <thead>\n    <tr style=\"text-align: right;\">\n      <th></th>\n      <th>Location</th>\n      <th>number</th>\n    </tr>\n    <tr>\n      <th>Status of the mission</th>\n      <th></th>\n      <th></th>\n    </tr>\n  </thead>\n  <tbody>\n    <tr>\n      <th>Failure</th>\n      <td>Australia</td>\n      <td>3</td>\n    </tr>\n    <tr>\n      <th>Failure</th>\n      <td>Barents Sea</td>\n      <td>1</td>\n    </tr>\n    <tr>\n      <th>Failure</th>\n      <td>Brazil</td>\n      <td>2</td>\n    </tr>\n    <tr>\n      <th>Failure</th>\n      <td>China</td>\n      <td>19</td>\n    </tr>\n    <tr>\n      <th>Failure</th>\n      <td>France</td>\n      <td>13</td>\n    </tr>\n    <tr>\n      <th>Failure</th>\n      <td>India</td>\n      <td>8</td>\n    </tr>\n    <tr>\n      <th>Failure</th>\n      <td>Iran</td>\n      <td>8</td>\n    </tr>\n    <tr>\n      <th>Failure</th>\n      <td>Israel</td>\n      <td>2</td>\n    </tr>\n    <tr>\n      <th>Failure</th>\n      <td>Japan</td>\n      <td>10</td>\n    </tr>\n    <tr>\n      <th>Failure</th>\n      <td>Kazakhstan</td>\n      <td>72</td>\n    </tr>\n    <tr>\n      <th>Failure</th>\n      <td>New Mexico</td>\n      <td>1</td>\n    </tr>\n    <tr>\n      <th>Failure</th>\n      <td>New Zealand</td>\n      <td>2</td>\n    </tr>\n    <tr>\n      <th>Failure</th>\n      <td>North Korea</td>\n      <td>3</td>\n    </tr>\n    <tr>\n      <th>Failure</th>\n      <td>Pacific Missile Range Facility</td>\n      <td>1</td>\n    </tr>\n    <tr>\n      <th>Failure</th>\n      <td>Pacific Ocean</td>\n      <td>3</td>\n    </tr>\n    <tr>\n      <th>Failure</th>\n      <td>Russia</td>\n      <td>62</td>\n    </tr>\n    <tr>\n      <th>Failure</th>\n      <td>South Korea</td>\n      <td>2</td>\n    </tr>\n    <tr>\n      <th>Failure</th>\n      <td>USA</td>\n      <td>127</td>\n    </tr>\n  </tbody>\n</table>\n</div>"
     },
     "execution_count": 808,
     "metadata": {},
     "output_type": "execute_result"
    }
   ],
   "source": [
    "space_mission_grouped_by_location_failure"
   ],
   "metadata": {
    "collapsed": false,
    "ExecuteTime": {
     "end_time": "2024-05-13T14:24:07.194281400Z",
     "start_time": "2024-05-13T14:24:07.159999Z"
    }
   },
   "id": "2f622504723c171f",
   "execution_count": 808
  },
  {
   "cell_type": "code",
   "outputs": [],
   "source": [
    "df_missions_failure = pd.merge(left= space_mission_grouped_by_location_failure, right=number_of_missions_df, on=\"Location\")"
   ],
   "metadata": {
    "collapsed": false,
    "ExecuteTime": {
     "end_time": "2024-05-13T14:28:56.005057Z",
     "start_time": "2024-05-13T14:28:55.989299100Z"
    }
   },
   "id": "721b9cb151f742e1",
   "execution_count": 809
  },
  {
   "cell_type": "code",
   "outputs": [
    {
     "data": {
      "text/plain": "Index(['Location', 'number', 'count'], dtype='object')"
     },
     "execution_count": 810,
     "metadata": {},
     "output_type": "execute_result"
    }
   ],
   "source": [
    "df_missions_failure.columns"
   ],
   "metadata": {
    "collapsed": false,
    "ExecuteTime": {
     "end_time": "2024-05-13T14:28:56.863550300Z",
     "start_time": "2024-05-13T14:28:56.810521800Z"
    }
   },
   "id": "694fd9de1a70b874",
   "execution_count": 810
  },
  {
   "cell_type": "code",
   "outputs": [],
   "source": [
    "df_missions_failure.columns = [\"Location\", \"Missions Failed\", \"Missions Total\"]\n"
   ],
   "metadata": {
    "collapsed": false,
    "ExecuteTime": {
     "end_time": "2024-05-13T14:28:57.450197100Z",
     "start_time": "2024-05-13T14:28:57.421145100Z"
    }
   },
   "id": "3c3113b3630a14a9",
   "execution_count": 811
  },
  {
   "cell_type": "code",
   "outputs": [
    {
     "data": {
      "text/plain": "  Location  Missions Failed  Missions Total\n0   Russia               62            1395\n1      USA              127            1344",
      "text/html": "<div>\n<style scoped>\n    .dataframe tbody tr th:only-of-type {\n        vertical-align: middle;\n    }\n\n    .dataframe tbody tr th {\n        vertical-align: top;\n    }\n\n    .dataframe thead th {\n        text-align: right;\n    }\n</style>\n<table border=\"1\" class=\"dataframe\">\n  <thead>\n    <tr style=\"text-align: right;\">\n      <th></th>\n      <th>Location</th>\n      <th>Missions Failed</th>\n      <th>Missions Total</th>\n    </tr>\n  </thead>\n  <tbody>\n    <tr>\n      <th>0</th>\n      <td>Russia</td>\n      <td>62</td>\n      <td>1395</td>\n    </tr>\n    <tr>\n      <th>1</th>\n      <td>USA</td>\n      <td>127</td>\n      <td>1344</td>\n    </tr>\n  </tbody>\n</table>\n</div>"
     },
     "execution_count": 812,
     "metadata": {},
     "output_type": "execute_result"
    }
   ],
   "source": [
    "df_missions_failure"
   ],
   "metadata": {
    "collapsed": false,
    "ExecuteTime": {
     "end_time": "2024-05-13T14:28:58.727807700Z",
     "start_time": "2024-05-13T14:28:58.697971Z"
    }
   },
   "id": "319e59f5cb19300e",
   "execution_count": 812
  },
  {
   "cell_type": "code",
   "outputs": [],
   "source": [],
   "metadata": {
    "collapsed": false,
    "ExecuteTime": {
     "end_time": "2024-05-13T14:29:00.931960100Z",
     "start_time": "2024-05-13T14:29:00.916426100Z"
    }
   },
   "id": "9008d4f39e62ee3c",
   "execution_count": 812
  },
  {
   "cell_type": "code",
   "outputs": [],
   "source": [
    "def find_percentage(row):\n",
    "    return f\"{int(row[\"Missions Failed\"] * 100 / row[\"Missions Total\"])}%\""
   ],
   "metadata": {
    "collapsed": false,
    "ExecuteTime": {
     "end_time": "2024-05-13T14:29:02.306106900Z",
     "start_time": "2024-05-13T14:29:02.286597300Z"
    }
   },
   "id": "3110d1c60cf5e7a2",
   "execution_count": 813
  },
  {
   "cell_type": "code",
   "outputs": [],
   "source": [
    "df_missions_failure[\"percentage\"] = df_missions_failure.apply(find_percentage, axis= 1)"
   ],
   "metadata": {
    "collapsed": false,
    "ExecuteTime": {
     "end_time": "2024-05-13T14:29:02.946588800Z",
     "start_time": "2024-05-13T14:29:02.931778600Z"
    }
   },
   "id": "83a11c58eb691553",
   "execution_count": 814
  },
  {
   "cell_type": "code",
   "outputs": [
    {
     "data": {
      "text/plain": "  Location  Missions Failed  Missions Total percentage\n0   Russia               62            1395         4%\n1      USA              127            1344         9%",
      "text/html": "<div>\n<style scoped>\n    .dataframe tbody tr th:only-of-type {\n        vertical-align: middle;\n    }\n\n    .dataframe tbody tr th {\n        vertical-align: top;\n    }\n\n    .dataframe thead th {\n        text-align: right;\n    }\n</style>\n<table border=\"1\" class=\"dataframe\">\n  <thead>\n    <tr style=\"text-align: right;\">\n      <th></th>\n      <th>Location</th>\n      <th>Missions Failed</th>\n      <th>Missions Total</th>\n      <th>percentage</th>\n    </tr>\n  </thead>\n  <tbody>\n    <tr>\n      <th>0</th>\n      <td>Russia</td>\n      <td>62</td>\n      <td>1395</td>\n      <td>4%</td>\n    </tr>\n    <tr>\n      <th>1</th>\n      <td>USA</td>\n      <td>127</td>\n      <td>1344</td>\n      <td>9%</td>\n    </tr>\n  </tbody>\n</table>\n</div>"
     },
     "execution_count": 815,
     "metadata": {},
     "output_type": "execute_result"
    }
   ],
   "source": [
    "df_missions_failure"
   ],
   "metadata": {
    "collapsed": false,
    "ExecuteTime": {
     "end_time": "2024-05-13T14:29:04.399471400Z",
     "start_time": "2024-05-13T14:29:04.344303300Z"
    }
   },
   "id": "2609b4432c990ab4",
   "execution_count": 815
  },
  {
   "cell_type": "code",
   "outputs": [],
   "source": [],
   "metadata": {
    "collapsed": false
   },
   "id": "164bb361ab03d267"
  },
  {
   "cell_type": "markdown",
   "source": [
    "<h3>9% der amerikanischen Raumfahrtmissionen haben nicht geklappt im vergleich zu 4% Prozent der russischen </h3>"
   ],
   "metadata": {
    "collapsed": false
   },
   "id": "c859f51e51838836"
  },
  {
   "cell_type": "code",
   "outputs": [],
   "source": [],
   "metadata": {
    "collapsed": false
   },
   "id": "81f4429b52456f26"
  },
  {
   "cell_type": "code",
   "outputs": [],
   "source": [],
   "metadata": {
    "collapsed": false
   },
   "id": "bab83a992362ca0a"
  },
  {
   "cell_type": "markdown",
   "source": [
    "<h3>In welchen Jahren waren die meisten Weltraummissionen</h3>"
   ],
   "metadata": {
    "collapsed": false
   },
   "id": "40f48335a8223f28"
  },
  {
   "cell_type": "markdown",
   "source": [],
   "metadata": {
    "collapsed": false
   },
   "id": "9782f99ef814534f"
  },
  {
   "cell_type": "code",
   "outputs": [
    {
     "data": {
      "text/plain": "year\n2018    117\n1971    116\n1975    112\n1976    109\n1977    109\n       ... \n2010     36\n2012     34\n1958     22\n1959     20\n1957      3\nName: count, Length: 64, dtype: int64"
     },
     "execution_count": 749,
     "metadata": {},
     "output_type": "execute_result"
    }
   ],
   "source": [
    "space_mission_df.year.value_counts()"
   ],
   "metadata": {
    "collapsed": false,
    "ExecuteTime": {
     "end_time": "2024-05-13T13:50:11.170499500Z",
     "start_time": "2024-05-13T13:50:11.138488400Z"
    }
   },
   "id": "d384e0c0ae48414c",
   "execution_count": 749
  },
  {
   "cell_type": "markdown",
   "source": [
    "<h3> Wir sehen das die meisten Weltraummissionen in den 70. Jahren waren. Seit 2018 gab es wieder einen plötzlichen Anstieg </h3>"
   ],
   "metadata": {
    "collapsed": false
   },
   "id": "8578183edea988f3"
  },
  {
   "cell_type": "markdown",
   "source": [],
   "metadata": {
    "collapsed": false
   },
   "id": "ba157960dc2668da"
  },
  {
   "cell_type": "markdown",
   "source": [
    "<h3>Welche Unternehmen sind die Ursache für den plötzlichen Anstieg</h3>"
   ],
   "metadata": {
    "collapsed": false
   },
   "id": "87cce4b8a6a928fa"
  },
  {
   "cell_type": "code",
   "outputs": [
    {
     "data": {
      "text/plain": "              Company Name\nCompany Name              \nCASC                    37\nSpaceX                  21\nRoscosmos               11\nArianespace             11\nULA                      8\nISRO                     7\nVKS RF                   5\nMHI                      4\nRocket Lab               3\nNorthrop                 2\nBlue Origin              2\nJAXA                     2\nLandspace                1\nExPace                   1\nExos                     1\nEurockot                 1",
      "text/html": "<div>\n<style scoped>\n    .dataframe tbody tr th:only-of-type {\n        vertical-align: middle;\n    }\n\n    .dataframe tbody tr th {\n        vertical-align: top;\n    }\n\n    .dataframe thead th {\n        text-align: right;\n    }\n</style>\n<table border=\"1\" class=\"dataframe\">\n  <thead>\n    <tr style=\"text-align: right;\">\n      <th></th>\n      <th>Company Name</th>\n    </tr>\n    <tr>\n      <th>Company Name</th>\n      <th></th>\n    </tr>\n  </thead>\n  <tbody>\n    <tr>\n      <th>CASC</th>\n      <td>37</td>\n    </tr>\n    <tr>\n      <th>SpaceX</th>\n      <td>21</td>\n    </tr>\n    <tr>\n      <th>Roscosmos</th>\n      <td>11</td>\n    </tr>\n    <tr>\n      <th>Arianespace</th>\n      <td>11</td>\n    </tr>\n    <tr>\n      <th>ULA</th>\n      <td>8</td>\n    </tr>\n    <tr>\n      <th>ISRO</th>\n      <td>7</td>\n    </tr>\n    <tr>\n      <th>VKS RF</th>\n      <td>5</td>\n    </tr>\n    <tr>\n      <th>MHI</th>\n      <td>4</td>\n    </tr>\n    <tr>\n      <th>Rocket Lab</th>\n      <td>3</td>\n    </tr>\n    <tr>\n      <th>Northrop</th>\n      <td>2</td>\n    </tr>\n    <tr>\n      <th>Blue Origin</th>\n      <td>2</td>\n    </tr>\n    <tr>\n      <th>JAXA</th>\n      <td>2</td>\n    </tr>\n    <tr>\n      <th>Landspace</th>\n      <td>1</td>\n    </tr>\n    <tr>\n      <th>ExPace</th>\n      <td>1</td>\n    </tr>\n    <tr>\n      <th>Exos</th>\n      <td>1</td>\n    </tr>\n    <tr>\n      <th>Eurockot</th>\n      <td>1</td>\n    </tr>\n  </tbody>\n</table>\n</div>"
     },
     "execution_count": 764,
     "metadata": {},
     "output_type": "execute_result"
    }
   ],
   "source": [
    "space_mission_df.set_index(\"year\").loc[\"2018\"].agg({\"Company Name\": \"value_counts\"})"
   ],
   "metadata": {
    "collapsed": false,
    "ExecuteTime": {
     "end_time": "2024-05-13T14:11:06.583035300Z",
     "start_time": "2024-05-13T14:11:06.534529500Z"
    }
   },
   "id": "21621624c654aa6e",
   "execution_count": 764
  },
  {
   "cell_type": "markdown",
   "source": [
    "<h3>Zwei der Hauptursachen sind die Unternehmen CASC und SpaceX</h3>"
   ],
   "metadata": {
    "collapsed": false
   },
   "id": "91aae3887486a3a6"
  },
  {
   "cell_type": "markdown",
   "source": [
    "<h3>Welche Raketen sind noch aktiv von Russland und Amerika</h3>"
   ],
   "metadata": {
    "collapsed": false
   },
   "id": "ea1b9f5e828032d"
  },
  {
   "cell_type": "code",
   "outputs": [
    {
     "ename": "KeyError",
     "evalue": "\"None of ['Location'] are in the columns\"",
     "output_type": "error",
     "traceback": [
      "\u001B[1;31m---------------------------------------------------------------------------\u001B[0m",
      "\u001B[1;31mKeyError\u001B[0m                                  Traceback (most recent call last)",
      "\u001B[1;32m~\\AppData\\Local\\Temp\\ipykernel_19080\\4187499575.py\u001B[0m in \u001B[0;36m?\u001B[1;34m()\u001B[0m\n\u001B[1;32m----> 1\u001B[1;33m \u001B[0mspace_mission_df\u001B[0m\u001B[1;33m.\u001B[0m\u001B[0mset_index\u001B[0m\u001B[1;33m(\u001B[0m\u001B[1;34m\"Location\"\u001B[0m\u001B[1;33m,\u001B[0m \u001B[0minplace\u001B[0m\u001B[1;33m=\u001B[0m\u001B[1;32mTrue\u001B[0m\u001B[1;33m)\u001B[0m\u001B[1;33m\u001B[0m\u001B[1;33m\u001B[0m\u001B[0m\n\u001B[0m",
      "\u001B[1;32m~\\Documents\\PycharmProjekte\\SpaceRaceDataAnalysis\\.venv\\Lib\\site-packages\\pandas\\core\\frame.py\u001B[0m in \u001B[0;36m?\u001B[1;34m(self, keys, drop, append, inplace, verify_integrity)\u001B[0m\n\u001B[0;32m   6118\u001B[0m                     \u001B[1;32mif\u001B[0m \u001B[1;32mnot\u001B[0m \u001B[0mfound\u001B[0m\u001B[1;33m:\u001B[0m\u001B[1;33m\u001B[0m\u001B[1;33m\u001B[0m\u001B[0m\n\u001B[0;32m   6119\u001B[0m                         \u001B[0mmissing\u001B[0m\u001B[1;33m.\u001B[0m\u001B[0mappend\u001B[0m\u001B[1;33m(\u001B[0m\u001B[0mcol\u001B[0m\u001B[1;33m)\u001B[0m\u001B[1;33m\u001B[0m\u001B[1;33m\u001B[0m\u001B[0m\n\u001B[0;32m   6120\u001B[0m \u001B[1;33m\u001B[0m\u001B[0m\n\u001B[0;32m   6121\u001B[0m         \u001B[1;32mif\u001B[0m \u001B[0mmissing\u001B[0m\u001B[1;33m:\u001B[0m\u001B[1;33m\u001B[0m\u001B[1;33m\u001B[0m\u001B[0m\n\u001B[1;32m-> 6122\u001B[1;33m             \u001B[1;32mraise\u001B[0m \u001B[0mKeyError\u001B[0m\u001B[1;33m(\u001B[0m\u001B[1;33mf\"\u001B[0m\u001B[1;33mNone of \u001B[0m\u001B[1;33m{\u001B[0m\u001B[0mmissing\u001B[0m\u001B[1;33m}\u001B[0m\u001B[1;33m are in the columns\u001B[0m\u001B[1;33m\"\u001B[0m\u001B[1;33m)\u001B[0m\u001B[1;33m\u001B[0m\u001B[1;33m\u001B[0m\u001B[0m\n\u001B[0m\u001B[0;32m   6123\u001B[0m \u001B[1;33m\u001B[0m\u001B[0m\n\u001B[0;32m   6124\u001B[0m         \u001B[1;32mif\u001B[0m \u001B[0minplace\u001B[0m\u001B[1;33m:\u001B[0m\u001B[1;33m\u001B[0m\u001B[1;33m\u001B[0m\u001B[0m\n\u001B[0;32m   6125\u001B[0m             \u001B[0mframe\u001B[0m \u001B[1;33m=\u001B[0m \u001B[0mself\u001B[0m\u001B[1;33m\u001B[0m\u001B[1;33m\u001B[0m\u001B[0m\n",
      "\u001B[1;31mKeyError\u001B[0m: \"None of ['Location'] are in the columns\""
     ]
    }
   ],
   "source": [
    "space_mission_df.set_index(\"Location\", inplace=True)"
   ],
   "metadata": {
    "collapsed": false,
    "ExecuteTime": {
     "end_time": "2024-05-13T14:30:04.752433700Z",
     "start_time": "2024-05-13T14:30:04.724612800Z"
    }
   },
   "id": "96e73aa3b0bc2f4f",
   "execution_count": 819
  },
  {
   "cell_type": "code",
   "outputs": [],
   "source": [
    "space_mission_df_usa_russia = space_mission_df.loc[[\"USA\", \"Russia\"]]"
   ],
   "metadata": {
    "collapsed": false,
    "ExecuteTime": {
     "end_time": "2024-05-13T14:30:16.548963400Z",
     "start_time": "2024-05-13T14:30:16.521428800Z"
    }
   },
   "id": "86016d9e5cb5753e",
   "execution_count": 820
  },
  {
   "cell_type": "code",
   "outputs": [
    {
     "data": {
      "text/plain": "                               Status of the rocket\nLocation Status of the rocket                      \nRussia   StatusRetired                         1359\n         StatusActive                            36\nUSA      StatusRetired                         1136\n         StatusActive                           208",
      "text/html": "<div>\n<style scoped>\n    .dataframe tbody tr th:only-of-type {\n        vertical-align: middle;\n    }\n\n    .dataframe tbody tr th {\n        vertical-align: top;\n    }\n\n    .dataframe thead th {\n        text-align: right;\n    }\n</style>\n<table border=\"1\" class=\"dataframe\">\n  <thead>\n    <tr style=\"text-align: right;\">\n      <th></th>\n      <th></th>\n      <th>Status of the rocket</th>\n    </tr>\n    <tr>\n      <th>Location</th>\n      <th>Status of the rocket</th>\n      <th></th>\n    </tr>\n  </thead>\n  <tbody>\n    <tr>\n      <th rowspan=\"2\" valign=\"top\">Russia</th>\n      <th>StatusRetired</th>\n      <td>1359</td>\n    </tr>\n    <tr>\n      <th>StatusActive</th>\n      <td>36</td>\n    </tr>\n    <tr>\n      <th rowspan=\"2\" valign=\"top\">USA</th>\n      <th>StatusRetired</th>\n      <td>1136</td>\n    </tr>\n    <tr>\n      <th>StatusActive</th>\n      <td>208</td>\n    </tr>\n  </tbody>\n</table>\n</div>"
     },
     "execution_count": 821,
     "metadata": {},
     "output_type": "execute_result"
    }
   ],
   "source": [
    "space_mission_df_usa_russia.groupby(\"Location\").agg({\"Status of the rocket\": \"value_counts\"})"
   ],
   "metadata": {
    "collapsed": false,
    "ExecuteTime": {
     "end_time": "2024-05-13T14:30:18.626878Z",
     "start_time": "2024-05-13T14:30:18.598062500Z"
    }
   },
   "id": "e8762e6d66a687dd",
   "execution_count": 821
  },
  {
   "cell_type": "markdown",
   "source": [
    "<h3> Im Gegensatz zu Russland hat Amerika noch deutlich mehr weiterhin aktive Raumfahrtmissionen. 208: Amerika, 36: Russland </h3>"
   ],
   "metadata": {
    "collapsed": false
   },
   "id": "716dff93cf31c2ff"
  },
  {
   "cell_type": "code",
   "outputs": [],
   "source": [],
   "metadata": {
    "collapsed": false
   },
   "id": "c50f05f5ea7188cd"
  },
  {
   "cell_type": "markdown",
   "source": [
    "<h3> Welches Unternehmen hat die meisten Raumfahren durchgeführt </h3>"
   ],
   "metadata": {
    "collapsed": false
   },
   "id": "de23eaa9657b0873"
  },
  {
   "cell_type": "code",
   "outputs": [
    {
     "data": {
      "text/plain": "Company Name\nRVSN USSR           1198\nGeneral Dynamics     251\nNASA                 203\nUS Air Force         161\nVKS RF               157\nULA                  140\nBoeing               136\nMartin Marietta      114\nSpaceX               100\nNorthrop              81\nLockheed              79\nILS                   40\nUS Navy               17\nEurockot              13\nBlue Origin           12\nKosmotras             10\nRoscosmos              8\nMITT                   7\nAMBA                   7\nKhrunichev             1\nDouglas                1\nEER                    1\nVirgin Orbit           1\nYuzhmash               1\nName: count, dtype: int64"
     },
     "execution_count": 765,
     "metadata": {},
     "output_type": "execute_result"
    }
   ],
   "source": [
    "space_mission_df_usa_russia[\"Company Name\"].value_counts()\n"
   ],
   "metadata": {
    "collapsed": false,
    "ExecuteTime": {
     "end_time": "2024-05-13T14:13:21.581383500Z",
     "start_time": "2024-05-13T14:13:21.536817700Z"
    }
   },
   "id": "6b17ba3717ad3b7c",
   "execution_count": 765
  },
  {
   "cell_type": "markdown",
   "source": [
    "<h3>Die meisten Raumfahren hat RVSN USSR durchgeführt</h3>"
   ],
   "metadata": {
    "collapsed": false
   },
   "id": "fda0104e758e0c25"
  },
  {
   "cell_type": "code",
   "outputs": [],
   "source": [],
   "metadata": {
    "collapsed": false
   },
   "id": "152e8ee0de01373b"
  }
 ],
 "metadata": {
  "kernelspec": {
   "display_name": "Python 3",
   "language": "python",
   "name": "python3"
  },
  "language_info": {
   "codemirror_mode": {
    "name": "ipython",
    "version": 2
   },
   "file_extension": ".py",
   "mimetype": "text/x-python",
   "name": "python",
   "nbconvert_exporter": "python",
   "pygments_lexer": "ipython2",
   "version": "2.7.6"
  }
 },
 "nbformat": 4,
 "nbformat_minor": 5
}

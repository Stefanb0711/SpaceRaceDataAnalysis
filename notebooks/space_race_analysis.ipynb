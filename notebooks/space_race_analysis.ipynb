{
 "cells": [
  {
   "cell_type": "code",
   "execution_count": 7,
   "id": "initial_id",
   "metadata": {
    "collapsed": true,
    "ExecuteTime": {
     "end_time": "2024-05-08T11:00:09.388195400Z",
     "start_time": "2024-05-08T11:00:09.381178100Z"
    }
   },
   "outputs": [],
   "source": [
    "import pandas as pd\n",
    "import matplotlib.pyplot as plt\n",
    "import seaborn as sns"
   ]
  },
  {
   "cell_type": "code",
   "outputs": [],
   "source": [
    "space_missing_data = pd.read_csv('spaceMissionFrom1957.csv')"
   ],
   "metadata": {
    "collapsed": false,
    "ExecuteTime": {
     "end_time": "2024-05-08T11:00:11.062254600Z",
     "start_time": "2024-05-08T11:00:11.046497900Z"
    }
   },
   "id": "e90ee7fd4a82e461",
   "execution_count": 8
  },
  {
   "cell_type": "code",
   "outputs": [],
   "source": [
    "space_mission_df = pd.DataFrame(space_missing_data)"
   ],
   "metadata": {
    "collapsed": false,
    "ExecuteTime": {
     "end_time": "2024-05-08T11:18:11.014284700Z",
     "start_time": "2024-05-08T11:18:11.011744400Z"
    }
   },
   "id": "7803424c2eb834e0",
   "execution_count": 34
  },
  {
   "cell_type": "code",
   "outputs": [],
   "source": [
    "space_mission_df.rename(columns={\"Location of the Launch\": \"Location\"}, inplace=True)"
   ],
   "metadata": {
    "collapsed": false,
    "ExecuteTime": {
     "end_time": "2024-05-08T11:18:11.181777100Z",
     "start_time": "2024-05-08T11:18:11.178281800Z"
    }
   },
   "id": "1a4defe90be91b68",
   "execution_count": 35
  },
  {
   "cell_type": "code",
   "outputs": [],
   "source": [
    "space_mission_df[\"Location\"] = space_mission_df[\"Location\"].str.split(\",\")"
   ],
   "metadata": {
    "collapsed": false,
    "ExecuteTime": {
     "end_time": "2024-05-08T11:18:11.340776600Z",
     "start_time": "2024-05-08T11:18:11.336845700Z"
    }
   },
   "id": "535dbeb4037f21d0",
   "execution_count": 36
  },
  {
   "cell_type": "code",
   "outputs": [],
   "source": [
    "def get_last_item(lst):\n",
    "    return lst[-1]"
   ],
   "metadata": {
    "collapsed": false,
    "ExecuteTime": {
     "end_time": "2024-05-08T11:18:11.520784600Z",
     "start_time": "2024-05-08T11:18:11.512299800Z"
    }
   },
   "id": "4ee12347fee1ff1e",
   "execution_count": 37
  },
  {
   "cell_type": "code",
   "outputs": [],
   "source": [
    "space_mission_df[\"Location\"] = space_mission_df[\"Location\"].apply(get_last_item)"
   ],
   "metadata": {
    "collapsed": false,
    "ExecuteTime": {
     "end_time": "2024-05-08T11:18:23.238012Z",
     "start_time": "2024-05-08T11:18:23.224012300Z"
    }
   },
   "id": "f661fe701aa06a7b",
   "execution_count": 38
  },
  {
   "cell_type": "code",
   "outputs": [
    {
     "ename": "KeyError",
     "evalue": "-1",
     "output_type": "error",
     "traceback": [
      "\u001B[1;31m---------------------------------------------------------------------------\u001B[0m",
      "\u001B[1;31mValueError\u001B[0m                                Traceback (most recent call last)",
      "File \u001B[1;32m~\\AppData\\Local\\Programs\\Python\\Python312\\Lib\\site-packages\\pandas\\core\\indexes\\range.py:413\u001B[0m, in \u001B[0;36mRangeIndex.get_loc\u001B[1;34m(self, key)\u001B[0m\n\u001B[0;32m    412\u001B[0m \u001B[38;5;28;01mtry\u001B[39;00m:\n\u001B[1;32m--> 413\u001B[0m     \u001B[38;5;28;01mreturn\u001B[39;00m \u001B[38;5;28;43mself\u001B[39;49m\u001B[38;5;241;43m.\u001B[39;49m\u001B[43m_range\u001B[49m\u001B[38;5;241;43m.\u001B[39;49m\u001B[43mindex\u001B[49m\u001B[43m(\u001B[49m\u001B[43mnew_key\u001B[49m\u001B[43m)\u001B[49m\n\u001B[0;32m    414\u001B[0m \u001B[38;5;28;01mexcept\u001B[39;00m \u001B[38;5;167;01mValueError\u001B[39;00m \u001B[38;5;28;01mas\u001B[39;00m err:\n",
      "\u001B[1;31mValueError\u001B[0m: -1 is not in range",
      "\nThe above exception was the direct cause of the following exception:\n",
      "\u001B[1;31mKeyError\u001B[0m                                  Traceback (most recent call last)",
      "Cell \u001B[1;32mIn[39], line 1\u001B[0m\n\u001B[1;32m----> 1\u001B[0m space_mission_df[\u001B[38;5;124m\"\u001B[39m\u001B[38;5;124mLocation\u001B[39m\u001B[38;5;124m\"\u001B[39m] \u001B[38;5;241m=\u001B[39m \u001B[43mspace_mission_df\u001B[49m\u001B[43m[\u001B[49m\u001B[38;5;124;43m\"\u001B[39;49m\u001B[38;5;124;43mLocation\u001B[39;49m\u001B[38;5;124;43m\"\u001B[39;49m\u001B[43m]\u001B[49m\u001B[43m[\u001B[49m\u001B[38;5;241;43m-\u001B[39;49m\u001B[38;5;241;43m1\u001B[39;49m\u001B[43m]\u001B[49m\n",
      "File \u001B[1;32m~\\AppData\\Local\\Programs\\Python\\Python312\\Lib\\site-packages\\pandas\\core\\series.py:1121\u001B[0m, in \u001B[0;36mSeries.__getitem__\u001B[1;34m(self, key)\u001B[0m\n\u001B[0;32m   1118\u001B[0m     \u001B[38;5;28;01mreturn\u001B[39;00m \u001B[38;5;28mself\u001B[39m\u001B[38;5;241m.\u001B[39m_values[key]\n\u001B[0;32m   1120\u001B[0m \u001B[38;5;28;01melif\u001B[39;00m key_is_scalar:\n\u001B[1;32m-> 1121\u001B[0m     \u001B[38;5;28;01mreturn\u001B[39;00m \u001B[38;5;28;43mself\u001B[39;49m\u001B[38;5;241;43m.\u001B[39;49m\u001B[43m_get_value\u001B[49m\u001B[43m(\u001B[49m\u001B[43mkey\u001B[49m\u001B[43m)\u001B[49m\n\u001B[0;32m   1123\u001B[0m \u001B[38;5;66;03m# Convert generator to list before going through hashable part\u001B[39;00m\n\u001B[0;32m   1124\u001B[0m \u001B[38;5;66;03m# (We will iterate through the generator there to check for slices)\u001B[39;00m\n\u001B[0;32m   1125\u001B[0m \u001B[38;5;28;01mif\u001B[39;00m is_iterator(key):\n",
      "File \u001B[1;32m~\\AppData\\Local\\Programs\\Python\\Python312\\Lib\\site-packages\\pandas\\core\\series.py:1237\u001B[0m, in \u001B[0;36mSeries._get_value\u001B[1;34m(self, label, takeable)\u001B[0m\n\u001B[0;32m   1234\u001B[0m     \u001B[38;5;28;01mreturn\u001B[39;00m \u001B[38;5;28mself\u001B[39m\u001B[38;5;241m.\u001B[39m_values[label]\n\u001B[0;32m   1236\u001B[0m \u001B[38;5;66;03m# Similar to Index.get_value, but we do not fall back to positional\u001B[39;00m\n\u001B[1;32m-> 1237\u001B[0m loc \u001B[38;5;241m=\u001B[39m \u001B[38;5;28;43mself\u001B[39;49m\u001B[38;5;241;43m.\u001B[39;49m\u001B[43mindex\u001B[49m\u001B[38;5;241;43m.\u001B[39;49m\u001B[43mget_loc\u001B[49m\u001B[43m(\u001B[49m\u001B[43mlabel\u001B[49m\u001B[43m)\u001B[49m\n\u001B[0;32m   1239\u001B[0m \u001B[38;5;28;01mif\u001B[39;00m is_integer(loc):\n\u001B[0;32m   1240\u001B[0m     \u001B[38;5;28;01mreturn\u001B[39;00m \u001B[38;5;28mself\u001B[39m\u001B[38;5;241m.\u001B[39m_values[loc]\n",
      "File \u001B[1;32m~\\AppData\\Local\\Programs\\Python\\Python312\\Lib\\site-packages\\pandas\\core\\indexes\\range.py:415\u001B[0m, in \u001B[0;36mRangeIndex.get_loc\u001B[1;34m(self, key)\u001B[0m\n\u001B[0;32m    413\u001B[0m         \u001B[38;5;28;01mreturn\u001B[39;00m \u001B[38;5;28mself\u001B[39m\u001B[38;5;241m.\u001B[39m_range\u001B[38;5;241m.\u001B[39mindex(new_key)\n\u001B[0;32m    414\u001B[0m     \u001B[38;5;28;01mexcept\u001B[39;00m \u001B[38;5;167;01mValueError\u001B[39;00m \u001B[38;5;28;01mas\u001B[39;00m err:\n\u001B[1;32m--> 415\u001B[0m         \u001B[38;5;28;01mraise\u001B[39;00m \u001B[38;5;167;01mKeyError\u001B[39;00m(key) \u001B[38;5;28;01mfrom\u001B[39;00m \u001B[38;5;21;01merr\u001B[39;00m\n\u001B[0;32m    416\u001B[0m \u001B[38;5;28;01mif\u001B[39;00m \u001B[38;5;28misinstance\u001B[39m(key, Hashable):\n\u001B[0;32m    417\u001B[0m     \u001B[38;5;28;01mraise\u001B[39;00m \u001B[38;5;167;01mKeyError\u001B[39;00m(key)\n",
      "\u001B[1;31mKeyError\u001B[0m: -1"
     ]
    }
   ],
   "source": [
    "space_mission_df[\"Location\"] = space_mission_df[\"Location\"][-1]"
   ],
   "metadata": {
    "collapsed": false,
    "ExecuteTime": {
     "end_time": "2024-05-08T11:18:24.919614300Z",
     "start_time": "2024-05-08T11:18:24.914103400Z"
    }
   },
   "id": "919f870ed44fbe16",
   "execution_count": 39
  },
  {
   "cell_type": "code",
   "outputs": [],
   "source": [
    "distribution_by_country = space_mission_df[\"Location\"].value_counts()[:5]\n",
    "distribution_by_country_df = pd.DataFrame(distribution_by_country)"
   ],
   "metadata": {
    "collapsed": false,
    "ExecuteTime": {
     "end_time": "2024-05-08T11:34:04.698969200Z",
     "start_time": "2024-05-08T11:34:04.687207300Z"
    }
   },
   "id": "40feb30a7469c1ea",
   "execution_count": 58
  },
  {
   "cell_type": "code",
   "outputs": [
    {
     "data": {
      "text/plain": "<Figure size 1000x700 with 1 Axes>",
      "image/png": "[encoded data removed]"
     },
     "metadata": {},
     "output_type": "display_data"
    }
   ],
   "source": [
    "plt.figure(figsize=(10, 7))\n",
    "sns.barplot(y=\"Location\", x=distribution_by_country.values, data=distribution_by_country_df)\n",
    "plt.title(\"Weltraummissionen nach Ländern\")\n",
    "plt.show()"
   ],
   "metadata": {
    "collapsed": false,
    "ExecuteTime": {
     "end_time": "2024-05-08T11:38:16.750939800Z",
     "start_time": "2024-05-08T11:38:16.651146500Z"
    }
   },
   "id": "c0738888dbb81703",
   "execution_count": 64
  },
  {
   "cell_type": "code",
   "outputs": [
    {
     "data": {
      "text/plain": "     Company Name     Location    Datum and Time of Launch  \\\n0          SpaceX          USA  Fri Aug 07, 2020 05:12 UTC   \n1            CASC        China  Thu Aug 06, 2020 04:01 UTC   \n2          SpaceX          USA  Tue Aug 04, 2020 23:57 UTC   \n3       Roscosmos   Kazakhstan  Thu Jul 30, 2020 21:25 UTC   \n4             ULA          USA  Thu Jul 30, 2020 11:50 UTC   \n...           ...          ...                         ...   \n4319      US Navy          USA  Wed Feb 05, 1958 07:33 UTC   \n4320         AMBA          USA  Sat Feb 01, 1958 03:48 UTC   \n4321      US Navy          USA  Fri Dec 06, 1957 16:44 UTC   \n4322    RVSN USSR   Kazakhstan  Sun Nov 03, 1957 02:30 UTC   \n4323    RVSN USSR   Kazakhstan  Fri Oct 04, 1957 19:28 UTC   \n\n                                       Rocket Name Status of the rocket  \\\n0     Falcon 9 Block 5 | Starlink V1 L9 & BlackSky         StatusActive   \n1              Long March 2D | Gaofen-9 04 & Q-SAT         StatusActive   \n2               Starship Prototype | 150 Meter Hop         StatusActive   \n3     Proton-M/Briz-M | Ekspress-80 & Ekspress-103         StatusActive   \n4                       Atlas V 541 | Perseverance         StatusActive   \n...                                            ...                  ...   \n4319                     Vanguard | Vanguard TV3BU        StatusRetired   \n4320                           Juno I | Explorer 1        StatusRetired   \n4321                       Vanguard | Vanguard TV3        StatusRetired   \n4322                    Sputnik 8K71PS | Sputnik-2        StatusRetired   \n4323                    Sputnik 8K71PS | Sputnik-1        StatusRetired   \n\n     Status of the mission  \n0                  Success  \n1                  Success  \n2                  Success  \n3                  Success  \n4                  Success  \n...                    ...  \n4319               Failure  \n4320               Success  \n4321               Failure  \n4322               Success  \n4323               Success  \n\n[4324 rows x 6 columns]",
      "text/html": "<div>\n<style scoped>\n    .dataframe tbody tr th:only-of-type {\n        vertical-align: middle;\n    }\n\n    .dataframe tbody tr th {\n        vertical-align: top;\n    }\n\n    .dataframe thead th {\n        text-align: right;\n    }\n</style>\n<table border=\"1\" class=\"dataframe\">\n  <thead>\n    <tr style=\"text-align: right;\">\n      <th></th>\n      <th>Company Name</th>\n      <th>Location</th>\n      <th>Datum and Time of Launch</th>\n      <th>Rocket Name</th>\n      <th>Status of the rocket</th>\n      <th>Status of the mission</th>\n    </tr>\n  </thead>\n  <tbody>\n    <tr>\n      <th>0</th>\n      <td>SpaceX</td>\n      <td>USA</td>\n      <td>Fri Aug 07, 2020 05:12 UTC</td>\n      <td>Falcon 9 Block 5 | Starlink V1 L9 &amp; BlackSky</td>\n      <td>StatusActive</td>\n      <td>Success</td>\n    </tr>\n    <tr>\n      <th>1</th>\n      <td>CASC</td>\n      <td>China</td>\n      <td>Thu Aug 06, 2020 04:01 UTC</td>\n      <td>Long March 2D | Gaofen-9 04 &amp; Q-SAT</td>\n      <td>StatusActive</td>\n      <td>Success</td>\n    </tr>\n    <tr>\n      <th>2</th>\n      <td>SpaceX</td>\n      <td>USA</td>\n      <td>Tue Aug 04, 2020 23:57 UTC</td>\n      <td>Starship Prototype | 150 Meter Hop</td>\n      <td>StatusActive</td>\n      <td>Success</td>\n    </tr>\n    <tr>\n      <th>3</th>\n      <td>Roscosmos</td>\n      <td>Kazakhstan</td>\n      <td>Thu Jul 30, 2020 21:25 UTC</td>\n      <td>Proton-M/Briz-M | Ekspress-80 &amp; Ekspress-103</td>\n      <td>StatusActive</td>\n      <td>Success</td>\n    </tr>\n    <tr>\n      <th>4</th>\n      <td>ULA</td>\n      <td>USA</td>\n      <td>Thu Jul 30, 2020 11:50 UTC</td>\n      <td>Atlas V 541 | Perseverance</td>\n      <td>StatusActive</td>\n      <td>Success</td>\n    </tr>\n    <tr>\n      <th>...</th>\n      <td>...</td>\n      <td>...</td>\n      <td>...</td>\n      <td>...</td>\n      <td>...</td>\n      <td>...</td>\n    </tr>\n    <tr>\n      <th>4319</th>\n      <td>US Navy</td>\n      <td>USA</td>\n      <td>Wed Feb 05, 1958 07:33 UTC</td>\n      <td>Vanguard | Vanguard TV3BU</td>\n      <td>StatusRetired</td>\n      <td>Failure</td>\n    </tr>\n    <tr>\n      <th>4320</th>\n      <td>AMBA</td>\n      <td>USA</td>\n      <td>Sat Feb 01, 1958 03:48 UTC</td>\n      <td>Juno I | Explorer 1</td>\n      <td>StatusRetired</td>\n      <td>Success</td>\n    </tr>\n    <tr>\n      <th>4321</th>\n      <td>US Navy</td>\n      <td>USA</td>\n      <td>Fri Dec 06, 1957 16:44 UTC</td>\n      <td>Vanguard | Vanguard TV3</td>\n      <td>StatusRetired</td>\n      <td>Failure</td>\n    </tr>\n    <tr>\n      <th>4322</th>\n      <td>RVSN USSR</td>\n      <td>Kazakhstan</td>\n      <td>Sun Nov 03, 1957 02:30 UTC</td>\n      <td>Sputnik 8K71PS | Sputnik-2</td>\n      <td>StatusRetired</td>\n      <td>Success</td>\n    </tr>\n    <tr>\n      <th>4323</th>\n      <td>RVSN USSR</td>\n      <td>Kazakhstan</td>\n      <td>Fri Oct 04, 1957 19:28 UTC</td>\n      <td>Sputnik 8K71PS | Sputnik-1</td>\n      <td>StatusRetired</td>\n      <td>Success</td>\n    </tr>\n  </tbody>\n</table>\n<p>4324 rows × 6 columns</p>\n</div>"
     },
     "execution_count": 66,
     "metadata": {},
     "output_type": "execute_result"
    }
   ],
   "source": [
    "space_mission_df"
   ],
   "metadata": {
    "collapsed": false,
    "ExecuteTime": {
     "end_time": "2024-05-08T11:38:59.339815Z",
     "start_time": "2024-05-08T11:38:59.312726800Z"
    }
   },
   "id": "c49b38b5eaac8c83",
   "execution_count": 66
  },
  {
   "cell_type": "code",
   "outputs": [],
   "source": [],
   "metadata": {
    "collapsed": false
   },
   "id": "1f31a36bff1a9ac8"
  },
  {
   "cell_type": "markdown",
   "source": [
    "Wie hoch war die Schiterrate in Amerika und Russland"
   ],
   "metadata": {
    "collapsed": false
   },
   "id": "1677a848c31e3361"
  },
  {
   "cell_type": "markdown",
   "source": [
    "Wann war die erste Raumfahrt"
   ],
   "metadata": {
    "collapsed": false
   },
   "id": "964e8d2049dcdab6"
  },
  {
   "cell_type": "markdown",
   "source": [
    "Wie hat sich die Häufigkeit von den Spacemissionen enwickelt"
   ],
   "metadata": {
    "collapsed": false
   },
   "id": "21da53a75a0bf1e5"
  },
  {
   "cell_type": "markdown",
   "source": [
    "In welchem Jahr waren die meisten Weltraummissionen"
   ],
   "metadata": {
    "collapsed": false
   },
   "id": "40f48335a8223f28"
  }
 ],
 "metadata": {
  "kernelspec": {
   "display_name": "Python 3",
   "language": "python",
   "name": "python3"
  },
  "language_info": {
   "codemirror_mode": {
    "name": "ipython",
    "version": 2
   },
   "file_extension": ".py",
   "mimetype": "text/x-python",
   "name": "python",
   "nbconvert_exporter": "python",
   "pygments_lexer": "ipython2",
   "version": "2.7.6"
  }
 },
 "nbformat": 4,
 "nbformat_minor": 5
}
